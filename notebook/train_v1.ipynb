{
 "cells": [
  {
   "cell_type": "code",
   "execution_count": 50,
   "metadata": {},
   "outputs": [],
   "source": [
    "#imports \n",
    "import os\n",
    "import pandas as pd\n",
    "from collections import Counter\n",
    "from sklearn.model_selection import train_test_split\n",
    "\n",
    "import torch\n",
    "import torch.optim as optim\n",
    "import torch.nn as nn\n",
    "from torch.nn.utils.rnn import pad_sequence\n",
    "from torch.nn.utils.rnn import pack_padded_sequence\n",
    "from torch.utils.data import DataLoader,Dataset\n",
    "\n",
    "import spacy\n",
    "import statistics\n",
    "import torchtext\n",
    "import torchvision\n",
    "import torchvision.transforms as transforms\n",
    "import torchvision.models as models\n",
    "\n",
    "from PIL import Image\n",
    "import matplotlib.pyplot as plt\n",
    "\n",
    "import pytorch_lightning as pl\n",
    "from pytorch_lightning import loggers as pl_loggers\n",
    "from pytorch_lightning.metrics import Accuracy"
   ]
  },
  {
   "cell_type": "code",
   "execution_count": 51,
   "metadata": {},
   "outputs": [],
   "source": [
    "torch.backends.cudnn.benchmark = True\n",
    "# device = torch.device(\"cuda\" if torch.cuda.is_available() else \"cpu\")\n",
    "\n",
    "# Hyperparameters\n",
    "BATCH_SIZE = 128\n",
    "NUM_WORKERS = 8\n",
    "SPLIT_VAL = 0.2\n",
    "\n",
    "EMBED_SIZE = 256\n",
    "HIDDEN_SIZE = 256\n",
    "NUM_LAYERS = 1\n",
    "\n",
    "LRATE = 3e-5\n",
    "MAX_EPOCHS = 100\n",
    "NUM_GPU=1"
   ]
  },
  {
   "cell_type": "code",
   "execution_count": 64,
   "metadata": {},
   "outputs": [],
   "source": [
    "class Vocabulary(object):\n",
    "    def __init__(self, freq_threshold, spacy_eng=None):\n",
    "        self.start_word = \"<SOS>\"\n",
    "        self.end_word = \"<EOS>\"\n",
    "        self.pad_word = \"<PAD>\"\n",
    "        self.unk_word = \"<UNK>\"\n",
    "        \n",
    "        self.itos = {0: self.pad_word, 1: self.start_word, 2: self.end_word, 3: self.unk_word}\n",
    "        self.stoi = {self.pad_word: 0, self.start_word: 1, self.end_word: 2, self.unk_word: 3}\n",
    "        \n",
    "        self.itos = {0: self.start_word, 1: self.end_word, 2: self.pad_word, 3: self.unk_word}\n",
    "        self.stoi = {self.start_word: 0, self.end_word: 1, self.pad_word: 2, self.unk_word: 3}\n",
    "        \n",
    "        \n",
    "        self.freq_threshold = freq_threshold\n",
    "        if spacy_eng==None:\n",
    "            self.spacy_eng = spacy.load('en_core_web_sm')\n",
    "        else:\n",
    "            self.spacy_eng = spacy_eng\n",
    "        \n",
    "    def __len__(self):\n",
    "        return len(self.itos)\n",
    "\n",
    "    def tokenizer_eng(self, text):\n",
    "        tokenizer = [tok.text.lower() for tok in self.spacy_eng.tokenizer(text)]\n",
    "        return tokenizer\n",
    "        \n",
    "    def build_vocabulary(self, sentence_list):\n",
    "        frequencies = {}\n",
    "        idx = 4\n",
    "\n",
    "        for sentence in sentence_list:\n",
    "            for word in self.tokenizer_eng(sentence):\n",
    "                if word not in frequencies:\n",
    "                    frequencies[word] = 1\n",
    "\n",
    "                else:\n",
    "                    frequencies[word] += 1\n",
    "\n",
    "                if frequencies[word] == self.freq_threshold:\n",
    "                    self.stoi[word] = idx\n",
    "                    self.itos[idx] = word\n",
    "                    idx += 1\n",
    "\n",
    "    def numericalize(self, text):\n",
    "        tokenized_text = self.tokenizer_eng(text)\n",
    "\n",
    "        return [\n",
    "            self.stoi[token] if token in self.stoi else self.stoi[\"<UNK>\"]\n",
    "            for token in tokenized_text\n",
    "        ]\n",
    "\n",
    "\n",
    "class FlickrDataset(Dataset):\n",
    "    def __init__(self, root_dir, caption_file, caption_delimiter='|', \n",
    "                 image_column='image_name', text_column='caption_text',\n",
    "                 transform=None, freq_threshold=5,\n",
    "                 train=True, split_val=0.2):\n",
    "        self.root_dir = root_dir\n",
    "        self.caption_file = caption_file\n",
    "        self.caption_delimiter = caption_delimiter\n",
    "        self.image_column = image_column\n",
    "        self.text_column = text_column\n",
    "        \n",
    "        self.dataframe = pd.read_csv(caption_file, delimiter=caption_delimiter)\n",
    "        self.transform = transform\n",
    "        \n",
    "        self.vocab = Vocabulary(freq_threshold)\n",
    "        self.vocab.build_vocabulary(self.dataframe[self.text_column].tolist())\n",
    "        \n",
    "        self.train = train \n",
    "        self.split_val = split_val\n",
    "        self._do_split_train_valid()\n",
    "        \n",
    "    def _do_split_train_valid(self):\n",
    "        imgs_train, imgs_valid, caps_train, caps_valid = train_test_split(\n",
    "            self.dataframe[self.image_column], self.dataframe[self.text_column], \n",
    "            test_size=self.split_val, random_state=16\n",
    "        )\n",
    "        \n",
    "        if self.train:\n",
    "            self.imgs = imgs_train\n",
    "            self.captions = caps_train\n",
    "        else:\n",
    "            self.imgs = imgs_valid\n",
    "            self.captions = caps_valid\n",
    "            \n",
    "        self.imgs = self.imgs.tolist()\n",
    "        self.captions = self.captions.tolist()\n",
    "        \n",
    "\n",
    "    def __len__(self):\n",
    "        return len(self.imgs)\n",
    "    \n",
    "    def _numericalized_caption(self, caption):\n",
    "        numericalized_caption = [self.vocab.stoi[\"<SOS>\"]]\n",
    "        numericalized_caption += self.vocab.numericalize(caption)\n",
    "        numericalized_caption.append(self.vocab.stoi[\"<EOS>\"])\n",
    "        \n",
    "        return numericalized_caption\n",
    "\n",
    "    def __getitem__(self, index):\n",
    "        caption = self.captions[index]\n",
    "        img_id = self.imgs[index]\n",
    "        img = Image.open(os.path.join(self.root_dir, img_id)).convert(\"RGB\")\n",
    "\n",
    "        if self.transform is not None:\n",
    "            img = self.transform(img)\n",
    "\n",
    "        ncaption = self._numericalized_caption(caption)\n",
    "\n",
    "        return img, torch.tensor(ncaption)\n",
    "\n",
    "\n",
    "class CaptionCollate:\n",
    "    def __init__(self, pad_idx, batch_first=True):\n",
    "        self.pad_idx = pad_idx\n",
    "        self.batch_first = batch_first\n",
    "\n",
    "    def __call__(self, batch):\n",
    "        batch.sort(key=lambda x: len(x[1]), reverse=True)\n",
    "        (images, captions) = zip(*batch)\n",
    "        \n",
    "        imgs = [img.unsqueeze(0) for img in images]\n",
    "        imgs = torch.cat(imgs, dim=0)\n",
    "        \n",
    "        lengths = [len(cap) for cap in captions]\n",
    "        targets = torch.zeros(len(captions), max(lengths)).long()\n",
    "        for idx, cap in enumerate(captions):\n",
    "            end = lengths[idx]\n",
    "            targets[idx, :end] = cap[:end]\n",
    "        return imgs, targets, lengths\n",
    "    \n",
    "\n",
    "def flickr8k_dataloader(root_folder, caption_file, transform, train=True,\n",
    "                        batch_size=32, num_workers=8, shuffle=True, pin_memory=True):\n",
    "    \n",
    "    dataset = FlickrDataset(root_folder, caption_file, transform=transform, train=train)\n",
    "    PAD_IDX = dataset.vocab.stoi[\"<PAD>\"]\n",
    "    dataloader = DataLoader(dataset=dataset, batch_size=batch_size, num_workers=num_workers,\n",
    "                            shuffle=shuffle, pin_memory=pin_memory, \n",
    "                            collate_fn=CaptionCollate(pad_idx=PAD_IDX))\n",
    "    \n",
    "    return dataloader, dataset"
   ]
  },
  {
   "cell_type": "code",
   "execution_count": 72,
   "metadata": {},
   "outputs": [],
   "source": [
    "train_transform = transforms.Compose([\n",
    "    transforms.Resize((356, 356)),\n",
    "    transforms.RandomCrop((224, 224)),\n",
    "    transforms.RandomHorizontalFlip(), \n",
    "    transforms.ToTensor(),\n",
    "    transforms.Normalize((0.485, 0.456, 0.406),(0.229, 0.224, 0.225)),\n",
    "])\n",
    "\n",
    "valid_transform = transforms.Compose([\n",
    "    transforms.Resize((224, 224)),\n",
    "    transforms.ToTensor(),\n",
    "    transforms.Normalize((0.485, 0.456, 0.406),(0.229, 0.224, 0.225)),\n",
    "])\n",
    "\n",
    "root_dir = \"data/flickr30k/images/\"\n",
    "caption_file = \"data/flickr30k/captions.txt\"\n",
    "\n",
    "train_loader, trainset = flickr8k_dataloader(root_dir, caption_file, transform=train_transform,  \n",
    "                                             num_workers=NUM_WORKERS, shuffle=True, train=True)\n",
    "\n",
    "valid_loader, validset = flickr8k_dataloader(root_dir, caption_file, transform=valid_transform, \n",
    "                                             num_workers=NUM_WORKERS, shuffle=False, train=False)"
   ]
  },
  {
   "cell_type": "code",
   "execution_count": 73,
   "metadata": {},
   "outputs": [
    {
     "name": "stdout",
     "output_type": "stream",
     "text": [
      "['<SOS>', 'crowd', 'of', 'people', 'wearing', 'blue', 'standing', 'on', 'the', 'street', 'by', 'buildings', '.', '<EOS>']\n"
     ]
    },
    {
     "data": {
      "text/plain": [
       "(127132, 31783)"
      ]
     },
     "execution_count": 73,
     "metadata": {},
     "output_type": "execute_result"
    }
   ],
   "source": [
    "img, cap = trainset[200]\n",
    "print([trainset.vocab.itos[token] for token in cap.tolist()])\n",
    "len(trainset), len(validset)"
   ]
  },
  {
   "cell_type": "code",
   "execution_count": 74,
   "metadata": {},
   "outputs": [
    {
     "name": "stdout",
     "output_type": "stream",
     "text": [
      "['<SOS>', '<SOS>', '<SOS>', '<SOS>', '<SOS>', '<SOS>', '<SOS>', '<SOS>', '<SOS>', '<SOS>', '<SOS>', '<SOS>', '<SOS>', '<SOS>', '<SOS>', '<SOS>', '<SOS>', '<SOS>', '<SOS>', '<SOS>', '<SOS>', '<SOS>', '<SOS>', '<SOS>', '<SOS>', '<SOS>', '<SOS>', '<SOS>', '<SOS>', '<SOS>', '<SOS>', '<SOS>', 'many', 'a', 'a', 'at', 'a', 'two', 'a', 'a', 'a', 'a', 'a', 'a', 'two', 'a', 'a', 'a', 'woman', 'a', 'a', 'a', 'woman', 'older', 'brown', 'the', 'a', 'a', 'a', 'a', 'a', 'a', 'two', 'various', 'member', 'woman', 'group', 'a', 'balding', 'women', 'person', 'young', 'little', 'man', 'boy', 'young', 'men', 'group', 'man', 'player', 'looking', 'red', 'group', 'woman', 'on', 'women', 'dog', 'upper', 'surfer', 'lady', 'man', 'man', 'young', 'woman', 'children', 'marathon', 'of', 'in', 'of', 'beach', 'man', 'dressed', 'painting', 'man', 'girl', 'playing', 'uses', 'bespectacled', 'climb', 'of', 'wearing', 'for', 'through', '-', 'of', 'in', 'stage', 'in', 'leaps', 'deck', 'in', 'is', 'smiling', 'is', 'girl', 'building', 'running', 'runners', 'a', 'a', 'people', ',', 'with', 'for', 'a', 'sitting', 'in', 'a', 'a', 'girl', 'up', 'people', 'a', 'the', 'a', 'haired', 'people', 'an', 'at', 'a', 'over', 'of', 'a', 'smiling', 'with', 'outdoors', 'is', 'herself', 'on', 'during', 'sports', 'white', 'work', 'two', 'glasses', 'cold', 'mural', 'on', 'a', 'trumpet', 'plastic', 'attempts', 'a', 'are', 'green', 'oklahoma', 'high', 'woman', 'sitting', 'apron', '<UNK>', 'blue', 'a', 'a', 'blue', 'with', 'a', 'chopping', 'smiling', 'a', 'a', 'a', 'league', 'apron', 'on', 'women', 'is', 'weather', 'on', 'a', 'blue', 'along', 'baseball', 'to', 'waterfall', 'coming', 'bandanna', 'sooners', '-', 'dresses', 'on', 'is', 'international', 'sweater', 'chain', 'british', 'swimsuit', 'her', 'helmet', 'food', 'while', 'sand', 'beach', 'race', ',', 'and', 'the', 'walk', 'holding', 'in', 'the', 'rock', 'dress', 'side', 'bat', 'hit', 'using', 'through', 'around', 'football', 'powered', 'in', 'concrete', 'standing', 'event', 'playing', 'suspended', 'bus', 'is', 'blond', 'on', 'on', 'swinging', 'castle', '.', '.', 'some', 'a', 'side', 'in', 'a', 'jackets', 'side', 'above', 'sitting', 'a', 'to', 'a', 'a', 'long', 'his', 'team', 'microscope', 'black', 'steps', 'in', '<UNK>', 'the', 'over', 'that', 'riding', '-', 'his', 'a', '.', '.', '<EOS>', '<EOS>', 'in', 'man', 'of', 'the', 'guitar', 'and', 'of', 'a', 'on', 'woman', 'practice', 'softball', 'rope', 'tunnel', 'face', '<UNK>', 'at', 'stands', 'at', 'a', 'gestures', 'piano', 'a', 'people', 'the', 'haired', 'head', 'table', '<EOS>', '<EOS>', 'white', 'with', 'a', 'surf', 'and', 'gloves', 'a', 'body', 'a', 'playing', 'hitting', 'from', 'while', 'with', 'works', 'the', 'a', 'at', 'a', 'kitchen', 'with', 'by', 'gravel', 'are', 'waves', 'son', '.', '.', 'and', 'a', 'large', ',', 'singing', 'look', 'building', 'of', 'park', 'a', 'a', 'a', 'wearing', 'three', 'on', 'ball', '<UNK>', 'a', 'neighborhood', ',', 'man', 'the', 'road', 'riding', '.', '.', '<EOS>', '<EOS>', 'some', 'yellow', 'metal', 'while', 'into', 'at', 'while', 'water', 'bench', 'saxophone', 'ball', 'free', 'shorts', 'escalators', 'a', 'during', 'in', 'green', 'basketball', 'looking', '<UNK>', 'window', '.', '.', '<EOS>', '<EOS>', 'in', 'shirt', 'structure', 'other', 'a', 'something', 'people', ',', ',', 'stand', 'from', '-', 'and', 'in', 'yellow', 'a', 'a', 'microphone', 'court', 'confused', '.', '.', '<EOS>', '<EOS>', 'red', 'stand', 'that', 'people', 'microphone', 'on', 'are', 'fishing', 'sticking', 'outside', 'a', 'standing', 'hard', 'it', 'machine', 'game', 'small', '.', '.', '.', '<EOS>', '<EOS>', 'stripes', 'in', 'is', 'stand', 'next', 'a', 'standing', 'rod', 'out', 'in', 'batting', 'batting', 'hats', '.', '.', '.', '<UNK>', '<EOS>', '<EOS>', '<EOS>', ',', 'front', 'very', 'near', 'to', 'cellphone', 'around', 'in', 'her', 'pink', 'tee', 'tee', '.', '<EOS>', '<EOS>', '<EOS>', '<EOS>', 'walk', 'of', 'blue', 'a', 'his', 'screen', 'watching', 'hand', 'tongue', 'hats', '.', '.', '<EOS>', 'about', 'a', 'on', 'pier', 'band', '.', '.', '.', '.', '.', '<EOS>', '<EOS>', 'on', 'counter', 'a', 'in', 'mates', '<EOS>', '<EOS>', '<EOS>', '<EOS>', '<EOS>', 'a', 'filled', 'cloudy', 'the', '.', 'green', 'with', 'day', 'background', '<EOS>', 'grassy', 'meat', '.', '.', 'field', '.', '<EOS>', '<EOS>', '.', '<EOS>', '<EOS>']\n",
      "torch.Size([3, 224, 224])\n"
     ]
    }
   ],
   "source": [
    "imgs, caps, lengths = next(iter(valid_loader))\n",
    "\n",
    "targets = pack_padded_sequence(caps, lengths, batch_first=True)\n",
    "targets[0][0]\n",
    "\n",
    "print([trainset.vocab.itos[token] for token in targets[0].tolist()])\n",
    "print(imgs[0].shape)"
   ]
  },
  {
   "cell_type": "code",
   "execution_count": 75,
   "metadata": {},
   "outputs": [],
   "source": [
    "class Encoder(nn.Module):\n",
    "    def __init__(self, embed_size, train_cnn=False, resnet_model=models.resnet50):\n",
    "        super(Encoder, self).__init__()\n",
    "        self.train_cnn = train_cnn\n",
    "        resnet = resnet_model(pretrained=True)\n",
    "        resnet = self._fine_tune(resnet)\n",
    "        modules = list(resnet.children())[:-1]\n",
    "        \n",
    "        self.resnet = nn.Sequential(*modules)\n",
    "        self.embed = nn.Linear(resnet.fc.in_features, embed_size)\n",
    "        self.dropout = nn.Dropout(0.5)\n",
    "        self.bn = nn.BatchNorm1d(embed_size, momentum=0.01)\n",
    "        \n",
    "    def _fine_tune(self, resnet):\n",
    "        if self.train_cnn:\n",
    "            for param in resnet.parameters():\n",
    "                param.requires_grad_(True)\n",
    "        else:\n",
    "            for param in resnet.parameters():\n",
    "                param.requires_grad_(False)\n",
    "                \n",
    "        return resnet\n",
    "    \n",
    "    def forward(self, images):\n",
    "        features = self.resnet(images)\n",
    "        features = features.view(features.size(0), -1)\n",
    "        embed = self.bn(self.embed(features))\n",
    "        return embed\n",
    "\n",
    "\n",
    "class Decoder(nn.Module):\n",
    "    def __init__(self, embed_size, hidden_size, vocab_size, num_layers):\n",
    "        super(Decoder, self).__init__()\n",
    "        self.embed_size = embed_size\n",
    "        self.hidden_size = hidden_size\n",
    "        self.vocab_size = vocab_size\n",
    "        self.num_layers = num_layers\n",
    "        \n",
    "        self.embed = nn.Embedding(vocab_size, embed_size)\n",
    "        self.lstm = nn.LSTM(embed_size, hidden_size, num_layers, batch_first=True)\n",
    "        self.linear = nn.Linear(hidden_size, vocab_size)\n",
    "        \n",
    "        self._init_weights()\n",
    "                \n",
    "    def _init_weights(self):\n",
    "        torch.nn.init.xavier_uniform_(self.linear.weight)\n",
    "        torch.nn.init.xavier_uniform_(self.embed.weight)\n",
    "\n",
    "    def forward(self, features, captions, lengths):\n",
    "        features = features.unsqueeze(dim=1)\n",
    "        \n",
    "        embeddings = self.embed(captions)\n",
    "        embeddings = torch.cat((features, embeddings), dim=1)\n",
    "        packed = pack_padded_sequence(embeddings, lengths, batch_first=True) \n",
    "        hiddens, _ = self.lstm(packed)\n",
    "        outputs = self.linear(hiddens[0])\n",
    "        return outputs\n",
    "    \n",
    "\n",
    "class ImageCaptionNet(nn.Module):\n",
    "    def __init__(self, embed_size, hidden_size, vocab_size, num_layers):\n",
    "        super(ImageCaptionNet, self).__init__()\n",
    "        self.embed_size = embed_size\n",
    "        self.hidden_size = hidden_size\n",
    "        self.vocab_size = vocab_size\n",
    "        self.num_layers = num_layers\n",
    "        \n",
    "        self.encoder = Encoder(embed_size)\n",
    "        self.decoder = Decoder(embed_size, hidden_size, vocab_size, num_layers)\n",
    "\n",
    "    def forward(self, images, captions, lengths):\n",
    "        features = self.encoder(images)\n",
    "        outputs = self.decoder(features, captions, lengths)\n",
    "        return outputs"
   ]
  },
  {
   "cell_type": "code",
   "execution_count": 76,
   "metadata": {},
   "outputs": [],
   "source": [
    "class ImageCaptionTask(pl.LightningModule):\n",
    "    def __init__(self, model, optimizers, criterion, vocab_size, scheduler=None, batch_first=True):\n",
    "        super().__init__()\n",
    "        self.model = model\n",
    "        self.optimizer = optimizer\n",
    "        self.criterion = criterion\n",
    "        self.scheduler = scheduler\n",
    "        self.vocab_size = vocab_size\n",
    "        self.batch_first = batch_first\n",
    "        self.metric = Accuracy()\n",
    "        \n",
    "    def forward(self, imgs, captions):\n",
    "        outputs = self.model(imgs, captions[:-1])\n",
    "        return outputs\n",
    "        \n",
    "    def shared_step(self, batch, batch_idx):\n",
    "        imgs, captions, lengths = batch\n",
    "        packed = pack_padded_sequence(captions, lengths, batch_first=self.batch_first)\n",
    "        targets, _, _, _ = packed\n",
    "        \n",
    "        outputs = self.model(imgs, captions, lengths)\n",
    "        loss = criterion(outputs, targets)\n",
    "        acc = self.metric(outputs, targets)\n",
    "        return loss, acc\n",
    "\n",
    "    def training_step(self, batch, batch_idx):\n",
    "        loss, acc = self.shared_step(batch, batch_idx)\n",
    "        result = pl.TrainResult(loss)\n",
    "        result.log_dict({'trn_loss': loss, 'trn_acc': acc})\n",
    "        \n",
    "        return result\n",
    "    \n",
    "    def validation_step(self, batch, batch_idx):\n",
    "        loss, acc = self.shared_step(batch, batch_idx)\n",
    "        result = pl.EvalResult(checkpoint_on=loss)\n",
    "        result.log_dict({'val_loss': loss, 'val_acc': acc})\n",
    "        \n",
    "        return result\n",
    "    \n",
    "    def configure_optimizers(self):\n",
    "        if self.scheduler:\n",
    "            return [self.optimizer], [self.scheduler]\n",
    "        return self.optimizer\n",
    "    \n",
    "  "
   ]
  },
  {
   "cell_type": "code",
   "execution_count": 77,
   "metadata": {},
   "outputs": [
    {
     "name": "stdout",
     "output_type": "stream",
     "text": [
      "VOCAB_SIZE : 7666\n"
     ]
    }
   ],
   "source": [
    "# initialize model, loss etc\n",
    "PAD_INDEX = trainset.vocab.stoi[\"<PAD>\"]\n",
    "VOCAB_SIZE = len(trainset.vocab)\n",
    "print(f'VOCAB_SIZE : {VOCAB_SIZE}')\n",
    "\n",
    "model = ImageCaptionNet(EMBED_SIZE, HIDDEN_SIZE, VOCAB_SIZE, NUM_LAYERS)\n",
    "criterion = nn.CrossEntropyLoss(ignore_index=PAD_INDEX)\n",
    "optimizer = optim.Adam(model.parameters(), lr=LRATE)\n",
    "task = ImageCaptionTask(model, optimizer, criterion, vocab_size=VOCAB_SIZE)"
   ]
  },
  {
   "cell_type": "code",
   "execution_count": 78,
   "metadata": {},
   "outputs": [
    {
     "name": "stderr",
     "output_type": "stream",
     "text": [
      "/opt/anaconda3/envs/dlearn/lib/python3.6/site-packages/pytorch_lightning/utilities/distributed.py:37: UserWarning: Checkpoint directory ../saved_model exists and is not empty with save_top_k != 0.All files in this directory will be deleted when a checkpoint is saved!\n",
      "  warnings.warn(*args, **kwargs)\n"
     ]
    }
   ],
   "source": [
    "checkpoint_path = '../saved_model'\n",
    "# DEFAULTS used by the Trainer\n",
    "checkpoint_callback = pl.callbacks.ModelCheckpoint(\n",
    "    filepath=checkpoint_path,\n",
    "    save_top_k=1,\n",
    "    verbose=True,\n",
    "    monitor='checkpoint_on',\n",
    "    mode='min',\n",
    "    prefix='flickr30k_net_'\n",
    ")\n",
    "\n",
    "tensorboard_logger = pl_loggers.TensorBoardLogger('../logs/flickr30k')"
   ]
  },
  {
   "cell_type": "code",
   "execution_count": null,
   "metadata": {},
   "outputs": [
    {
     "name": "stderr",
     "output_type": "stream",
     "text": [
      "GPU available: True, used: True\n",
      "TPU available: False, using: 0 TPU cores\n",
      "CUDA_VISIBLE_DEVICES: [0]\n",
      "/opt/anaconda3/envs/dlearn/lib/python3.6/site-packages/pytorch_lightning/utilities/distributed.py:37: UserWarning: Could not log computational graph since the `model.example_input_array` attribute is not set or `input_array` was not given\n",
      "  warnings.warn(*args, **kwargs)\n",
      "\n",
      "  | Name      | Type             | Params\n",
      "-----------------------------------------------\n",
      "0 | model     | ImageCaptionNet  | 28 M  \n",
      "1 | criterion | CrossEntropyLoss | 0     \n",
      "2 | metric    | Accuracy         | 0     \n"
     ]
    },
    {
     "data": {
      "application/vnd.jupyter.widget-view+json": {
       "model_id": "",
       "version_major": 2,
       "version_minor": 0
      },
      "text/plain": [
       "HBox(children=(FloatProgress(value=1.0, bar_style='info', description='Validation sanity check', layout=Layout…"
      ]
     },
     "metadata": {},
     "output_type": "display_data"
    },
    {
     "data": {
      "application/vnd.jupyter.widget-view+json": {
       "model_id": "f2752bc4ab1645479dc4a8c607a99d67",
       "version_major": 2,
       "version_minor": 0
      },
      "text/plain": [
       "HBox(children=(FloatProgress(value=1.0, bar_style='info', description='Training', layout=Layout(flex='2'), max…"
      ]
     },
     "metadata": {},
     "output_type": "display_data"
    },
    {
     "data": {
      "application/vnd.jupyter.widget-view+json": {
       "model_id": "",
       "version_major": 2,
       "version_minor": 0
      },
      "text/plain": [
       "HBox(children=(FloatProgress(value=1.0, bar_style='info', description='Validating', layout=Layout(flex='2'), m…"
      ]
     },
     "metadata": {},
     "output_type": "display_data"
    },
    {
     "name": "stderr",
     "output_type": "stream",
     "text": [
      "\n",
      "Epoch 00000: val_checkpoint_on reached 4.85262 (best 4.85262), saving model to ../saved_model/flickr30k_net_epoch=0.ckpt as top 1\n"
     ]
    }
   ],
   "source": [
    "trainer = pl.Trainer(max_epochs=MAX_EPOCHS, gpus=NUM_GPU, logger=tensorboard_logger, checkpoint_callback=checkpoint_callback)\n",
    "trainer.fit(task, train_loader, valid_loader)"
   ]
  },
  {
   "cell_type": "code",
   "execution_count": 49,
   "metadata": {},
   "outputs": [
    {
     "data": {
      "text/plain": [
       "<All keys matched successfully>"
      ]
     },
     "execution_count": 49,
     "metadata": {},
     "output_type": "execute_result"
    }
   ],
   "source": [
    "saved_checkpoint_path = '../saved_model/flickr8k_net_epoch=99.ckpt'\n",
    "checkpoint = torch.load(saved_checkpoint_path, map_location=lambda storage, loc: storage)\n",
    "task.load_state_dict(checkpoint['state_dict'])\n",
    "# model.load_state_dict(task.model.state_dict())\n",
    "# task.load_from_checkpoint(saved_checkpoint_path, optimizers=optimizer, criterion=criterion, vocab_size=VOCAB_SIZE)"
   ]
  },
  {
   "cell_type": "code",
   "execution_count": null,
   "metadata": {},
   "outputs": [],
   "source": []
  },
  {
   "cell_type": "code",
   "execution_count": 31,
   "metadata": {},
   "outputs": [],
   "source": [
    "class ImageCaptionTest(object):\n",
    "    def __init__(self, model, vocab, max_len=20):\n",
    "        self.model = model\n",
    "        self.vocab = vocab\n",
    "        self.max_len = max_len\n",
    "        \n",
    "        self.model.eval()\n",
    "        self.encoder = model.encoder\n",
    "        self.decoder = model.decoder\n",
    "        \n",
    "    def process_sentence_list(self, sentences):\n",
    "        sentence_list = []\n",
    "        for sentence in sentences:\n",
    "            sentence_list.append(self.clean_sentence(sentence))\n",
    "        return sentence_list\n",
    "    \n",
    "    def clean_sentence(self, sentence_index):\n",
    "        sentence = \"\"\n",
    "        for i in sentence_index:\n",
    "            word = self.vocab.itos[i]\n",
    "            if (word == self.vocab.start_word):\n",
    "                continue\n",
    "            elif (word == self.vocab.end_word):\n",
    "                break\n",
    "            else:\n",
    "                sentence = sentence + \" \" + word\n",
    "        return sentence\n",
    "    \n",
    "    def sample(self, images, states=None):\n",
    "        with torch.no_grad():\n",
    "            inputs = self.encoder(images).unsqueeze(dim=1)\n",
    "            sampled_ids = []\n",
    "            for i in range(self.max_len):\n",
    "                hiddens, states = self.decoder.lstm(inputs, states)          # hiddens: (batch_size, 1, hidden_size)\n",
    "                outputs = self.decoder.linear(hiddens.squeeze(1))            # outputs:  (batch_size, vocab_size)\n",
    "                _, predicted = outputs.max(1)                        # predicted: (batch_size)\n",
    "                sampled_ids.append(predicted)\n",
    "                inputs = self.decoder.embed(predicted)                       # inputs: (batch_size, embed_size)\n",
    "                inputs = inputs.unsqueeze(1)                         # inputs: (batch_size, 1, embed_size)\n",
    "            sampled_ids = torch.stack(sampled_ids, 1)                # sampled_ids: (batch_size, max_seq_length)\n",
    "            return sampled_ids.tolist()\n",
    "    \n",
    "    def generate_caption(self, images):\n",
    "        sentences_indexs = self.sample(images)\n",
    "        sentences = self.process_sentence_list(sentences_indexs)\n",
    "        return sentences\n",
    "    \n",
    "def clean_sentence(sentence_index, vocab):\n",
    "    sentence = \"\"\n",
    "    for i in sentence_index:\n",
    "        word = vocab.itos[i]\n",
    "        if (word == vocab.start_word):\n",
    "            continue\n",
    "        elif (word == vocab.end_word):\n",
    "            break\n",
    "        else:\n",
    "            sentence = sentence + \" \" + word\n",
    "    return sentence"
   ]
  },
  {
   "cell_type": "code",
   "execution_count": 47,
   "metadata": {},
   "outputs": [
    {
     "name": "stderr",
     "output_type": "stream",
     "text": [
      "Clipping input data to the valid range for imshow with RGB data ([0..1] for floats or [0..255] for integers).\n"
     ]
    },
    {
     "name": "stdout",
     "output_type": "stream",
     "text": [
      "predicted    :  a woman in a white shirt and a woman in a black dress and a woman in a red\n",
      "ground truth :  two girls doing a presentation\n",
      "tensor([   0,   50,  237,  384,    4, 2252,    1])\n"
     ]
    },
    {
     "data": {
      "image/png": "[encoded data removed]",
      "text/plain": [
       "<Figure size 432x288 with 1 Axes>"
      ]
     },
     "metadata": {
      "needs_background": "light"
     },
     "output_type": "display_data"
    }
   ],
   "source": [
    "img, txt = validset[201]\n",
    "img = img.unsqueeze(0)\n",
    "\n",
    "image_caption = ImageCaptionTest(model, validset.vocab)\n",
    "result = image_caption.generate_caption(img)\n",
    "\n",
    "\n",
    "print(f'predicted    : {result[0]}')\n",
    "print(f'ground truth : {clean_sentence(txt.tolist(), validset.vocab)}')\n",
    "plt.imshow(img.squeeze().permute(1,2,0), cmap='gray')\n",
    "print(txt)"
   ]
  },
  {
   "cell_type": "code",
   "execution_count": null,
   "metadata": {},
   "outputs": [],
   "source": []
  },
  {
   "cell_type": "code",
   "execution_count": null,
   "metadata": {},
   "outputs": [],
   "source": []
  }
 ],
 "metadata": {
  "kernelspec": {
   "display_name": "Python 3",
   "language": "python",
   "name": "python3"
  },
  "language_info": {
   "codemirror_mode": {
    "name": "ipython",
    "version": 3
   },
   "file_extension": ".py",
   "mimetype": "text/x-python",
   "name": "python",
   "nbconvert_exporter": "python",
   "pygments_lexer": "ipython3",
   "version": "3.6.8"
  }
 },
 "nbformat": 4,
 "nbformat_minor": 4
}
