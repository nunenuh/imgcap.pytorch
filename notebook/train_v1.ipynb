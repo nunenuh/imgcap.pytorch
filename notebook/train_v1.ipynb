{
 "cells": [
  {
   "cell_type": "code",
   "execution_count": 50,
   "metadata": {},
   "outputs": [],
   "source": [
    "#imports \n",
    "import os\n",
    "import pandas as pd\n",
    "from collections import Counter\n",
    "from sklearn.model_selection import train_test_split\n",
    "\n",
    "import torch\n",
    "import torch.optim as optim\n",
    "import torch.nn as nn\n",
    "from torch.nn.utils.rnn import pad_sequence\n",
    "from torch.nn.utils.rnn import pack_padded_sequence\n",
    "from torch.utils.data import DataLoader,Dataset\n",
    "\n",
    "import spacy\n",
    "import statistics\n",
    "import torchtext\n",
    "import torchvision\n",
    "import torchvision.transforms as transforms\n",
    "import torchvision.models as models\n",
    "\n",
    "from PIL import Image\n",
    "import matplotlib.pyplot as plt\n",
    "\n",
    "import pytorch_lightning as pl\n",
    "from pytorch_lightning import loggers as pl_loggers\n",
    "from pytorch_lightning.metrics import Accuracy"
   ]
  },
  {
   "cell_type": "code",
   "execution_count": 51,
   "metadata": {},
   "outputs": [],
   "source": [
    "torch.backends.cudnn.benchmark = True\n",
    "# device = torch.device(\"cuda\" if torch.cuda.is_available() else \"cpu\")\n",
    "\n",
    "# Hyperparameters\n",
    "BATCH_SIZE = 128\n",
    "NUM_WORKERS = 8\n",
    "SPLIT_VAL = 0.2\n",
    "\n",
    "EMBED_SIZE = 256\n",
    "HIDDEN_SIZE = 256\n",
    "NUM_LAYERS = 1\n",
    "\n",
    "LRATE = 3e-5\n",
    "MAX_EPOCHS = 100\n",
    "NUM_GPU=1"
   ]
  },
  {
   "cell_type": "code",
   "execution_count": 64,
   "metadata": {},
   "outputs": [],
   "source": [
    "class Vocabulary(object):\n",
    "    def __init__(self, freq_threshold, spacy_eng=None):\n",
    "        self.start_word = \"<SOS>\"\n",
    "        self.end_word = \"<EOS>\"\n",
    "        self.pad_word = \"<PAD>\"\n",
    "        self.unk_word = \"<UNK>\"\n",
    "        \n",
    "        self.itos = {0: self.pad_word, 1: self.start_word, 2: self.end_word, 3: self.unk_word}\n",
    "        self.stoi = {self.pad_word: 0, self.start_word: 1, self.end_word: 2, self.unk_word: 3}\n",
    "        \n",
    "        self.itos = {0: self.start_word, 1: self.end_word, 2: self.pad_word, 3: self.unk_word}\n",
    "        self.stoi = {self.start_word: 0, self.end_word: 1, self.pad_word: 2, self.unk_word: 3}\n",
    "        \n",
    "        \n",
    "        self.freq_threshold = freq_threshold\n",
    "        if spacy_eng==None:\n",
    "            self.spacy_eng = spacy.load('en_core_web_sm')\n",
    "        else:\n",
    "            self.spacy_eng = spacy_eng\n",
    "        \n",
    "    def __len__(self):\n",
    "        return len(self.itos)\n",
    "\n",
    "    def tokenizer_eng(self, text):\n",
    "        tokenizer = [tok.text.lower() for tok in self.spacy_eng.tokenizer(text)]\n",
    "        return tokenizer\n",
    "        \n",
    "    def build_vocabulary(self, sentence_list):\n",
    "        frequencies = {}\n",
    "        idx = 4\n",
    "\n",
    "        for sentence in sentence_list:\n",
    "            for word in self.tokenizer_eng(sentence):\n",
    "                if word not in frequencies:\n",
    "                    frequencies[word] = 1\n",
    "\n",
    "                else:\n",
    "                    frequencies[word] += 1\n",
    "\n",
    "                if frequencies[word] == self.freq_threshold:\n",
    "                    self.stoi[word] = idx\n",
    "                    self.itos[idx] = word\n",
    "                    idx += 1\n",
    "\n",
    "    def numericalize(self, text):\n",
    "        tokenized_text = self.tokenizer_eng(text)\n",
    "\n",
    "        return [\n",
    "            self.stoi[token] if token in self.stoi else self.stoi[\"<UNK>\"]\n",
    "            for token in tokenized_text\n",
    "        ]\n",
    "\n",
    "\n",
    "class FlickrDataset(Dataset):\n",
    "    def __init__(self, root_dir, caption_file, caption_delimiter='|', \n",
    "                 image_column='image_name', text_column='caption_text',\n",
    "                 transform=None, freq_threshold=5,\n",
    "                 train=True, split_val=0.2):\n",
    "        self.root_dir = root_dir\n",
    "        self.caption_file = caption_file\n",
    "        self.caption_delimiter = caption_delimiter\n",
    "        self.image_column = image_column\n",
    "        self.text_column = text_column\n",
    "        \n",
    "        self.dataframe = pd.read_csv(caption_file, delimiter=caption_delimiter)\n",
    "        self.transform = transform\n",
    "        \n",
    "        self.vocab = Vocabulary(freq_threshold)\n",
    "        self.vocab.build_vocabulary(self.dataframe[self.text_column].tolist())\n",
    "        \n",
    "        self.train = train \n",
    "        self.split_val = split_val\n",
    "        self._do_split_train_valid()\n",
    "        \n",
    "    def _do_split_train_valid(self):\n",
    "        imgs_train, imgs_valid, caps_train, caps_valid = train_test_split(\n",
    "            self.dataframe[self.image_column], self.dataframe[self.text_column], \n",
    "            test_size=self.split_val, random_state=16\n",
    "        )\n",
    "        \n",
    "        if self.train:\n",
    "            self.imgs = imgs_train\n",
    "            self.captions = caps_train\n",
    "        else:\n",
    "            self.imgs = imgs_valid\n",
    "            self.captions = caps_valid\n",
    "            \n",
    "        self.imgs = self.imgs.tolist()\n",
    "        self.captions = self.captions.tolist()\n",
    "        \n",
    "\n",
    "    def __len__(self):\n",
    "        return len(self.imgs)\n",
    "    \n",
    "    def _numericalized_caption(self, caption):\n",
    "        numericalized_caption = [self.vocab.stoi[\"<SOS>\"]]\n",
    "        numericalized_caption += self.vocab.numericalize(caption)\n",
    "        numericalized_caption.append(self.vocab.stoi[\"<EOS>\"])\n",
    "        \n",
    "        return numericalized_caption\n",
    "\n",
    "    def __getitem__(self, index):\n",
    "        caption = self.captions[index]\n",
    "        img_id = self.imgs[index]\n",
    "        img = Image.open(os.path.join(self.root_dir, img_id)).convert(\"RGB\")\n",
    "\n",
    "        if self.transform is not None:\n",
    "            img = self.transform(img)\n",
    "\n",
    "        ncaption = self._numericalized_caption(caption)\n",
    "\n",
    "        return img, torch.tensor(ncaption)\n",
    "\n",
    "\n",
    "class CaptionCollate:\n",
    "    def __init__(self, pad_idx, batch_first=True):\n",
    "        self.pad_idx = pad_idx\n",
    "        self.batch_first = batch_first\n",
    "\n",
    "    def __call__(self, batch):\n",
    "        batch.sort(key=lambda x: len(x[1]), reverse=True)\n",
    "        (images, captions) = zip(*batch)\n",
    "        \n",
    "        imgs = [img.unsqueeze(0) for img in images]\n",
    "        imgs = torch.cat(imgs, dim=0)\n",
    "        \n",
    "        lengths = [len(cap) for cap in captions]\n",
    "        targets = torch.zeros(len(captions), max(lengths)).long()\n",
    "        for idx, cap in enumerate(captions):\n",
    "            end = lengths[idx]\n",
    "            targets[idx, :end] = cap[:end]\n",
    "        return imgs, targets, lengths\n",
    "    \n",
    "\n",
    "def flickr8k_dataloader(root_folder, caption_file, transform, train=True,\n",
    "                        batch_size=32, num_workers=8, shuffle=True, pin_memory=True):\n",
    "    \n",
    "    dataset = FlickrDataset(root_folder, caption_file, transform=transform, train=train)\n",
    "    PAD_IDX = dataset.vocab.stoi[\"<PAD>\"]\n",
    "    dataloader = DataLoader(dataset=dataset, batch_size=batch_size, num_workers=num_workers,\n",
    "                            shuffle=shuffle, pin_memory=pin_memory, \n",
    "                            collate_fn=CaptionCollate(pad_idx=PAD_IDX))\n",
    "    \n",
    "    return dataloader, dataset"
   ]
  },
  {
   "cell_type": "code",
   "execution_count": 72,
   "metadata": {},
   "outputs": [],
   "source": [
    "train_transform = transforms.Compose([\n",
    "    transforms.Resize((356, 356)),\n",
    "    transforms.RandomCrop((224, 224)),\n",
    "    transforms.RandomHorizontalFlip(), \n",
    "    transforms.ToTensor(),\n",
    "    transforms.Normalize((0.485, 0.456, 0.406),(0.229, 0.224, 0.225)),\n",
    "])\n",
    "\n",
    "valid_transform = transforms.Compose([\n",
    "    transforms.Resize((224, 224)),\n",
    "    transforms.ToTensor(),\n",
    "    transforms.Normalize((0.485, 0.456, 0.406),(0.229, 0.224, 0.225)),\n",
    "])\n",
    "\n",
    "root_dir = \"data/flickr30k/images/\"\n",
    "caption_file = \"data/flickr30k/captions.txt\"\n",
    "\n",
    "train_loader, trainset = flickr8k_dataloader(root_dir, caption_file, transform=train_transform,  \n",
    "                                             num_workers=NUM_WORKERS, shuffle=True, train=True)\n",
    "\n",
    "valid_loader, validset = flickr8k_dataloader(root_dir, caption_file, transform=valid_transform, \n",
    "                                             num_workers=NUM_WORKERS, shuffle=False, train=False)"
   ]
  },
  {
   "cell_type": "code",
   "execution_count": 73,
   "metadata": {},
   "outputs": [
    {
     "name": "stdout",
     "output_type": "stream",
     "text": [
      "['<SOS>', 'crowd', 'of', 'people', 'wearing', 'blue', 'standing', 'on', 'the', 'street', 'by', 'buildings', '.', '<EOS>']\n"
     ]
    },
    {
     "data": {
      "text/plain": [
       "(127132, 31783)"
      ]
     },
     "execution_count": 73,
     "metadata": {},
     "output_type": "execute_result"
    }
   ],
   "source": [
    "img, cap = trainset[200]\n",
    "print([trainset.vocab.itos[token] for token in cap.tolist()])\n",
    "len(trainset), len(validset)"
   ]
  },
  {
   "cell_type": "code",
   "execution_count": 74,
   "metadata": {},
   "outputs": [
    {
     "name": "stdout",
     "output_type": "stream",
     "text": [
      "['<SOS>', '<SOS>', '<SOS>', '<SOS>', '<SOS>', '<SOS>', '<SOS>', '<SOS>', '<SOS>', '<SOS>', '<SOS>', '<SOS>', '<SOS>', '<SOS>', '<SOS>', '<SOS>', '<SOS>', '<SOS>', '<SOS>', '<SOS>', '<SOS>', '<SOS>', '<SOS>', '<SOS>', '<SOS>', '<SOS>', '<SOS>', '<SOS>', '<SOS>', '<SOS>', '<SOS>', '<SOS>', 'many', 'a', 'a', 'at', 'a', 'two', 'a', 'a', 'a', 'a', 'a', 'a', 'two', 'a', 'a', 'a', 'woman', 'a', 'a', 'a', 'woman', 'older', 'brown', 'the', 'a', 'a', 'a', 'a', 'a', 'a', 'two', 'various', 'member', 'woman', 'group', 'a', 'balding', 'women', 'person', 'young', 'little', 'man', 'boy', 'young', 'men', 'group', 'man', 'player', 'looking', 'red', 'group', 'woman', 'on', 'women', 'dog', 'upper', 'surfer', 'lady', 'man', 'man', 'young', 'woman', 'children', 'marathon', 'of', 'in', 'of', 'beach', 'man', 'dressed', 'painting', 'man', 'girl', 'playing', 'uses', 'bespectacled', 'climb', 'of', 'wearing', 'for', 'through', '-', 'of', 'in', 'stage', 'in', 'leaps', 'deck', 'in', 'is', 'smiling', 'is', 'girl', 'building', 'running', 'runners', 'a', 'a', 'people', ',', 'with', 'for', 'a', 'sitting', 'in', 'a', 'a', 'girl', 'up', 'people', 'a', 'the', 'a', 'haired', 'people', 'an', 'at', 'a', 'over', 'of', 'a', 'smiling', 'with', 'outdoors', 'is', 'herself', 'on', 'during', 'sports', 'white', 'work', 'two', 'glasses', 'cold', 'mural', 'on', 'a', 'trumpet', 'plastic', 'attempts', 'a', 'are', 'green', 'oklahoma', 'high', 'woman', 'sitting', 'apron', '<UNK>', 'blue', 'a', 'a', 'blue', 'with', 'a', 'chopping', 'smiling', 'a', 'a', 'a', 'league', 'apron', 'on', 'women', 'is', 'weather', 'on', 'a', 'blue', 'along', 'baseball', 'to', 'waterfall', 'coming', 'bandanna', 'sooners', '-', 'dresses', 'on', 'is', 'international', 'sweater', 'chain', 'british', 'swimsuit', 'her', 'helmet', 'food', 'while', 'sand', 'beach', 'race', ',', 'and', 'the', 'walk', 'holding', 'in', 'the', 'rock', 'dress', 'side', 'bat', 'hit', 'using', 'through', 'around', 'football', 'powered', 'in', 'concrete', 'standing', 'event', 'playing', 'suspended', 'bus', 'is', 'blond', 'on', 'on', 'swinging', 'castle', '.', '.', 'some', 'a', 'side', 'in', 'a', 'jackets', 'side', 'above', 'sitting', 'a', 'to', 'a', 'a', 'long', 'his', 'team', 'microscope', 'black', 'steps', 'in', '<UNK>', 'the', 'over', 'that', 'riding', '-', 'his', 'a', '.', '.', '<EOS>', '<EOS>', 'in', 'man', 'of', 'the', 'guitar', 'and', 'of', 'a', 'on', 'woman', 'practice', 'softball', 'rope', 'tunnel', 'face', '<UNK>', 'at', 'stands', 'at', 'a', 'gestures', 'piano', 'a', 'people', 'the', 'haired', 'head', 'table', '<EOS>', '<EOS>', 'white', 'with', 'a', 'surf', 'and', 'gloves', 'a', 'body', 'a', 'playing', 'hitting', 'from', 'while', 'with', 'works', 'the', 'a', 'at', 'a', 'kitchen', 'with', 'by', 'gravel', 'are', 'waves', 'son', '.', '.', 'and', 'a', 'large', ',', 'singing', 'look', 'building', 'of', 'park', 'a', 'a', 'a', 'wearing', 'three', 'on', 'ball', '<UNK>', 'a', 'neighborhood', ',', 'man', 'the', 'road', 'riding', '.', '.', '<EOS>', '<EOS>', 'some', 'yellow', 'metal', 'while', 'into', 'at', 'while', 'water', 'bench', 'saxophone', 'ball', 'free', 'shorts', 'escalators', 'a', 'during', 'in', 'green', 'basketball', 'looking', '<UNK>', 'window', '.', '.', '<EOS>', '<EOS>', 'in', 'shirt', 'structure', 'other', 'a', 'something', 'people', ',', ',', 'stand', 'from', '-', 'and', 'in', 'yellow', 'a', 'a', 'microphone', 'court', 'confused', '.', '.', '<EOS>', '<EOS>', 'red', 'stand', 'that', 'people', 'microphone', 'on', 'are', 'fishing', 'sticking', 'outside', 'a', 'standing', 'hard', 'it', 'machine', 'game', 'small', '.', '.', '.', '<EOS>', '<EOS>', 'stripes', 'in', 'is', 'stand', 'next', 'a', 'standing', 'rod', 'out', 'in', 'batting', 'batting', 'hats', '.', '.', '.', '<UNK>', '<EOS>', '<EOS>', '<EOS>', ',', 'front', 'very', 'near', 'to', 'cellphone', 'around', 'in', 'her', 'pink', 'tee', 'tee', '.', '<EOS>', '<EOS>', '<EOS>', '<EOS>', 'walk', 'of', 'blue', 'a', 'his', 'screen', 'watching', 'hand', 'tongue', 'hats', '.', '.', '<EOS>', 'about', 'a', 'on', 'pier', 'band', '.', '.', '.', '.', '.', '<EOS>', '<EOS>', 'on', 'counter', 'a', 'in', 'mates', '<EOS>', '<EOS>', '<EOS>', '<EOS>', '<EOS>', 'a', 'filled', 'cloudy', 'the', '.', 'green', 'with', 'day', 'background', '<EOS>', 'grassy', 'meat', '.', '.', 'field', '.', '<EOS>', '<EOS>', '.', '<EOS>', '<EOS>']\n",
      "torch.Size([3, 224, 224])\n"
     ]
    }
   ],
   "source": [
    "imgs, caps, lengths = next(iter(valid_loader))\n",
    "\n",
    "targets = pack_padded_sequence(caps, lengths, batch_first=True)\n",
    "targets[0][0]\n",
    "\n",
    "print([trainset.vocab.itos[token] for token in targets[0].tolist()])\n",
    "print(imgs[0].shape)"
   ]
  },
  {
   "cell_type": "code",
   "execution_count": 75,
   "metadata": {},
   "outputs": [],
   "source": [
    "class Encoder(nn.Module):\n",
    "    def __init__(self, embed_size, train_cnn=False, resnet_model=models.resnet50):\n",
    "        super(Encoder, self).__init__()\n",
    "        self.train_cnn = train_cnn\n",
    "        resnet = resnet_model(pretrained=True)\n",
    "        resnet = self._fine_tune(resnet)\n",
    "        modules = list(resnet.children())[:-1]\n",
    "        \n",
    "        self.resnet = nn.Sequential(*modules)\n",
    "        self.embed = nn.Linear(resnet.fc.in_features, embed_size)\n",
    "        self.dropout = nn.Dropout(0.5)\n",
    "        self.bn = nn.BatchNorm1d(embed_size, momentum=0.01)\n",
    "        \n",
    "    def _fine_tune(self, resnet):\n",
    "        if self.train_cnn:\n",
    "            for param in resnet.parameters():\n",
    "                param.requires_grad_(True)\n",
    "        else:\n",
    "            for param in resnet.parameters():\n",
    "                param.requires_grad_(False)\n",
    "                \n",
    "        return resnet\n",
    "    \n",
    "    def forward(self, images):\n",
    "        features = self.resnet(images)\n",
    "        features = features.view(features.size(0), -1)\n",
    "        embed = self.bn(self.embed(features))\n",
    "        return embed\n",
    "\n",
    "\n",
    "class Decoder(nn.Module):\n",
    "    def __init__(self, embed_size, hidden_size, vocab_size, num_layers):\n",
    "        super(Decoder, self).__init__()\n",
    "        self.embed_size = embed_size\n",
    "        self.hidden_size = hidden_size\n",
    "        self.vocab_size = vocab_size\n",
    "        self.num_layers = num_layers\n",
    "        \n",
    "        self.embed = nn.Embedding(vocab_size, embed_size)\n",
    "        self.lstm = nn.LSTM(embed_size, hidden_size, num_layers, batch_first=True)\n",
    "        self.linear = nn.Linear(hidden_size, vocab_size)\n",
    "        \n",
    "        self._init_weights()\n",
    "                \n",
    "    def _init_weights(self):\n",
    "        torch.nn.init.xavier_uniform_(self.linear.weight)\n",
    "        torch.nn.init.xavier_uniform_(self.embed.weight)\n",
    "\n",
    "    def forward(self, features, captions, lengths):\n",
    "        features = features.unsqueeze(dim=1)\n",
    "        \n",
    "        embeddings = self.embed(captions)\n",
    "        embeddings = torch.cat((features, embeddings), dim=1)\n",
    "        packed = pack_padded_sequence(embeddings, lengths, batch_first=True) \n",
    "        hiddens, _ = self.lstm(packed)\n",
    "        outputs = self.linear(hiddens[0])\n",
    "        return outputs\n",
    "    \n",
    "\n",
    "class ImageCaptionNet(nn.Module):\n",
    "    def __init__(self, embed_size, hidden_size, vocab_size, num_layers):\n",
    "        super(ImageCaptionNet, self).__init__()\n",
    "        self.embed_size = embed_size\n",
    "        self.hidden_size = hidden_size\n",
    "        self.vocab_size = vocab_size\n",
    "        self.num_layers = num_layers\n",
    "        \n",
    "        self.encoder = Encoder(embed_size)\n",
    "        self.decoder = Decoder(embed_size, hidden_size, vocab_size, num_layers)\n",
    "\n",
    "    def forward(self, images, captions, lengths):\n",
    "        features = self.encoder(images)\n",
    "        outputs = self.decoder(features, captions, lengths)\n",
    "        return outputs"
   ]
  },
  {
   "cell_type": "code",
   "execution_count": 76,
   "metadata": {},
   "outputs": [],
   "source": [
    "class ImageCaptionTask(pl.LightningModule):\n",
    "    def __init__(self, model, optimizers, criterion, vocab_size, scheduler=None, batch_first=True):\n",
    "        super().__init__()\n",
    "        self.model = model\n",
    "        self.optimizer = optimizer\n",
    "        self.criterion = criterion\n",
    "        self.scheduler = scheduler\n",
    "        self.vocab_size = vocab_size\n",
    "        self.batch_first = batch_first\n",
    "        self.metric = Accuracy()\n",
    "        \n",
    "    def forward(self, imgs, captions):\n",
    "        outputs = self.model(imgs, captions[:-1])\n",
    "        return outputs\n",
    "        \n",
    "    def shared_step(self, batch, batch_idx):\n",
    "        imgs, captions, lengths = batch\n",
    "        packed = pack_padded_sequence(captions, lengths, batch_first=self.batch_first)\n",
    "        targets, _, _, _ = packed\n",
    "        \n",
    "        outputs = self.model(imgs, captions, lengths)\n",
    "        loss = criterion(outputs, targets)\n",
    "        acc = self.metric(outputs, targets)\n",
    "        return loss, acc\n",
    "\n",
    "    def training_step(self, batch, batch_idx):\n",
    "        loss, acc = self.shared_step(batch, batch_idx)\n",
    "        result = pl.TrainResult(loss)\n",
    "        result.log_dict({'trn_loss': loss, 'trn_acc': acc})\n",
    "        \n",
    "        return result\n",
    "    \n",
    "    def validation_step(self, batch, batch_idx):\n",
    "        loss, acc = self.shared_step(batch, batch_idx)\n",
    "        result = pl.EvalResult(checkpoint_on=loss)\n",
    "        result.log_dict({'val_loss': loss, 'val_acc': acc})\n",
    "        \n",
    "        return result\n",
    "    \n",
    "    def configure_optimizers(self):\n",
    "        if self.scheduler:\n",
    "            return [self.optimizer], [self.scheduler]\n",
    "        return self.optimizer\n",
    "    \n",
    "  "
   ]
  },
  {
   "cell_type": "code",
   "execution_count": 77,
   "metadata": {},
   "outputs": [
    {
     "name": "stdout",
     "output_type": "stream",
     "text": [
      "VOCAB_SIZE : 7666\n"
     ]
    }
   ],
   "source": [
    "# initialize model, loss etc\n",
    "PAD_INDEX = trainset.vocab.stoi[\"<PAD>\"]\n",
    "VOCAB_SIZE = len(trainset.vocab)\n",
    "print(f'VOCAB_SIZE : {VOCAB_SIZE}')\n",
    "\n",
    "model = ImageCaptionNet(EMBED_SIZE, HIDDEN_SIZE, VOCAB_SIZE, NUM_LAYERS)\n",
    "criterion = nn.CrossEntropyLoss(ignore_index=PAD_INDEX)\n",
    "optimizer = optim.Adam(model.parameters(), lr=LRATE)\n",
    "task = ImageCaptionTask(model, optimizer, criterion, vocab_size=VOCAB_SIZE)"
   ]
  },
  {
   "cell_type": "code",
   "execution_count": 78,
   "metadata": {},
   "outputs": [
    {
     "name": "stderr",
     "output_type": "stream",
     "text": [
      "/opt/anaconda3/envs/dlearn/lib/python3.6/site-packages/pytorch_lightning/utilities/distributed.py:37: UserWarning: Checkpoint directory ../saved_model exists and is not empty with save_top_k != 0.All files in this directory will be deleted when a checkpoint is saved!\n",
      "  warnings.warn(*args, **kwargs)\n"
     ]
    }
   ],
   "source": [
    "checkpoint_path = '../saved_model'\n",
    "# DEFAULTS used by the Trainer\n",
    "checkpoint_callback = pl.callbacks.ModelCheckpoint(\n",
    "    filepath=checkpoint_path,\n",
    "    save_top_k=1,\n",
    "    verbose=True,\n",
    "    monitor='checkpoint_on',\n",
    "    mode='min',\n",
    "    prefix='flickr30k_net_'\n",
    ")\n",
    "\n",
    "tensorboard_logger = pl_loggers.TensorBoardLogger('../logs/flickr30k')"
   ]
  },
  {
   "cell_type": "code",
   "execution_count": 79,
   "metadata": {},
   "outputs": [
    {
     "name": "stderr",
     "output_type": "stream",
     "text": [
      "GPU available: True, used: True\n",
      "TPU available: False, using: 0 TPU cores\n",
      "CUDA_VISIBLE_DEVICES: [0]\n",
      "/opt/anaconda3/envs/dlearn/lib/python3.6/site-packages/pytorch_lightning/utilities/distributed.py:37: UserWarning: Could not log computational graph since the `model.example_input_array` attribute is not set or `input_array` was not given\n",
      "  warnings.warn(*args, **kwargs)\n",
      "\n",
      "  | Name      | Type             | Params\n",
      "-----------------------------------------------\n",
      "0 | model     | ImageCaptionNet  | 28 M  \n",
      "1 | criterion | CrossEntropyLoss | 0     \n",
      "2 | metric    | Accuracy         | 0     \n"
     ]
    },
    {
     "data": {
      "application/vnd.jupyter.widget-view+json": {
       "model_id": "",
       "version_major": 2,
       "version_minor": 0
      },
      "text/plain": [
       "HBox(children=(FloatProgress(value=1.0, bar_style='info', description='Validation sanity check', layout=Layout…"
      ]
     },
     "metadata": {},
     "output_type": "display_data"
    },
    {
     "data": {
      "application/vnd.jupyter.widget-view+json": {
       "model_id": "f2752bc4ab1645479dc4a8c607a99d67",
       "version_major": 2,
       "version_minor": 0
      },
      "text/plain": [
       "HBox(children=(FloatProgress(value=1.0, bar_style='info', description='Training', layout=Layout(flex='2'), max…"
      ]
     },
     "metadata": {},
     "output_type": "display_data"
    },
    {
     "data": {
      "application/vnd.jupyter.widget-view+json": {
       "model_id": "",
       "version_major": 2,
       "version_minor": 0
      },
      "text/plain": [
       "HBox(children=(FloatProgress(value=1.0, bar_style='info', description='Validating', layout=Layout(flex='2'), m…"
      ]
     },
     "metadata": {},
     "output_type": "display_data"
    },
    {
     "name": "stderr",
     "output_type": "stream",
     "text": [
      "\n",
      "Epoch 00000: val_checkpoint_on reached 4.85262 (best 4.85262), saving model to ../saved_model/flickr30k_net_epoch=0.ckpt as top 1\n"
     ]
    },
    {
     "data": {
      "application/vnd.jupyter.widget-view+json": {
       "model_id": "",
       "version_major": 2,
       "version_minor": 0
      },
      "text/plain": [
       "HBox(children=(FloatProgress(value=1.0, bar_style='info', description='Validating', layout=Layout(flex='2'), m…"
      ]
     },
     "metadata": {},
     "output_type": "display_data"
    },
    {
     "name": "stderr",
     "output_type": "stream",
     "text": [
      "\n",
      "Epoch 00001: val_checkpoint_on reached 4.15102 (best 4.15102), saving model to ../saved_model/flickr30k_net_epoch=1.ckpt as top 1\n"
     ]
    },
    {
     "data": {
      "application/vnd.jupyter.widget-view+json": {
       "model_id": "",
       "version_major": 2,
       "version_minor": 0
      },
      "text/plain": [
       "HBox(children=(FloatProgress(value=1.0, bar_style='info', description='Validating', layout=Layout(flex='2'), m…"
      ]
     },
     "metadata": {},
     "output_type": "display_data"
    },
    {
     "name": "stderr",
     "output_type": "stream",
     "text": [
      "\n",
      "Epoch 00002: val_checkpoint_on reached 3.87422 (best 3.87422), saving model to ../saved_model/flickr30k_net_epoch=2.ckpt as top 1\n"
     ]
    },
    {
     "data": {
      "application/vnd.jupyter.widget-view+json": {
       "model_id": "",
       "version_major": 2,
       "version_minor": 0
      },
      "text/plain": [
       "HBox(children=(FloatProgress(value=1.0, bar_style='info', description='Validating', layout=Layout(flex='2'), m…"
      ]
     },
     "metadata": {},
     "output_type": "display_data"
    },
    {
     "name": "stderr",
     "output_type": "stream",
     "text": [
      "\n",
      "Epoch 00003: val_checkpoint_on reached 3.72246 (best 3.72246), saving model to ../saved_model/flickr30k_net_epoch=3.ckpt as top 1\n"
     ]
    },
    {
     "data": {
      "application/vnd.jupyter.widget-view+json": {
       "model_id": "",
       "version_major": 2,
       "version_minor": 0
      },
      "text/plain": [
       "HBox(children=(FloatProgress(value=1.0, bar_style='info', description='Validating', layout=Layout(flex='2'), m…"
      ]
     },
     "metadata": {},
     "output_type": "display_data"
    },
    {
     "name": "stderr",
     "output_type": "stream",
     "text": [
      "\n",
      "Epoch 00004: val_checkpoint_on reached 3.60441 (best 3.60441), saving model to ../saved_model/flickr30k_net_epoch=4.ckpt as top 1\n"
     ]
    },
    {
     "data": {
      "application/vnd.jupyter.widget-view+json": {
       "model_id": "",
       "version_major": 2,
       "version_minor": 0
      },
      "text/plain": [
       "HBox(children=(FloatProgress(value=1.0, bar_style='info', description='Validating', layout=Layout(flex='2'), m…"
      ]
     },
     "metadata": {},
     "output_type": "display_data"
    },
    {
     "name": "stderr",
     "output_type": "stream",
     "text": [
      "\n",
      "Epoch 00005: val_checkpoint_on reached 3.50914 (best 3.50914), saving model to ../saved_model/flickr30k_net_epoch=5.ckpt as top 1\n"
     ]
    },
    {
     "data": {
      "application/vnd.jupyter.widget-view+json": {
       "model_id": "",
       "version_major": 2,
       "version_minor": 0
      },
      "text/plain": [
       "HBox(children=(FloatProgress(value=1.0, bar_style='info', description='Validating', layout=Layout(flex='2'), m…"
      ]
     },
     "metadata": {},
     "output_type": "display_data"
    },
    {
     "name": "stderr",
     "output_type": "stream",
     "text": [
      "\n",
      "Epoch 00006: val_checkpoint_on reached 3.43504 (best 3.43504), saving model to ../saved_model/flickr30k_net_epoch=6.ckpt as top 1\n"
     ]
    },
    {
     "data": {
      "application/vnd.jupyter.widget-view+json": {
       "model_id": "",
       "version_major": 2,
       "version_minor": 0
      },
      "text/plain": [
       "HBox(children=(FloatProgress(value=1.0, bar_style='info', description='Validating', layout=Layout(flex='2'), m…"
      ]
     },
     "metadata": {},
     "output_type": "display_data"
    },
    {
     "name": "stderr",
     "output_type": "stream",
     "text": [
      "\n",
      "Epoch 00007: val_checkpoint_on reached 3.36879 (best 3.36879), saving model to ../saved_model/flickr30k_net_epoch=7.ckpt as top 1\n"
     ]
    },
    {
     "data": {
      "application/vnd.jupyter.widget-view+json": {
       "model_id": "",
       "version_major": 2,
       "version_minor": 0
      },
      "text/plain": [
       "HBox(children=(FloatProgress(value=1.0, bar_style='info', description='Validating', layout=Layout(flex='2'), m…"
      ]
     },
     "metadata": {},
     "output_type": "display_data"
    },
    {
     "name": "stderr",
     "output_type": "stream",
     "text": [
      "\n",
      "Epoch 00008: val_checkpoint_on reached 3.31488 (best 3.31488), saving model to ../saved_model/flickr30k_net_epoch=8.ckpt as top 1\n"
     ]
    },
    {
     "data": {
      "application/vnd.jupyter.widget-view+json": {
       "model_id": "",
       "version_major": 2,
       "version_minor": 0
      },
      "text/plain": [
       "HBox(children=(FloatProgress(value=1.0, bar_style='info', description='Validating', layout=Layout(flex='2'), m…"
      ]
     },
     "metadata": {},
     "output_type": "display_data"
    },
    {
     "name": "stderr",
     "output_type": "stream",
     "text": [
      "\n",
      "Epoch 00009: val_checkpoint_on reached 3.27040 (best 3.27040), saving model to ../saved_model/flickr30k_net_epoch=9.ckpt as top 1\n"
     ]
    },
    {
     "data": {
      "application/vnd.jupyter.widget-view+json": {
       "model_id": "",
       "version_major": 2,
       "version_minor": 0
      },
      "text/plain": [
       "HBox(children=(FloatProgress(value=1.0, bar_style='info', description='Validating', layout=Layout(flex='2'), m…"
      ]
     },
     "metadata": {},
     "output_type": "display_data"
    },
    {
     "name": "stderr",
     "output_type": "stream",
     "text": [
      "\n",
      "Epoch 00010: val_checkpoint_on reached 3.22731 (best 3.22731), saving model to ../saved_model/flickr30k_net_epoch=10.ckpt as top 1\n"
     ]
    },
    {
     "data": {
      "application/vnd.jupyter.widget-view+json": {
       "model_id": "",
       "version_major": 2,
       "version_minor": 0
      },
      "text/plain": [
       "HBox(children=(FloatProgress(value=1.0, bar_style='info', description='Validating', layout=Layout(flex='2'), m…"
      ]
     },
     "metadata": {},
     "output_type": "display_data"
    },
    {
     "name": "stderr",
     "output_type": "stream",
     "text": [
      "\n",
      "Epoch 00011: val_checkpoint_on reached 3.18935 (best 3.18935), saving model to ../saved_model/flickr30k_net_epoch=11.ckpt as top 1\n"
     ]
    },
    {
     "data": {
      "application/vnd.jupyter.widget-view+json": {
       "model_id": "",
       "version_major": 2,
       "version_minor": 0
      },
      "text/plain": [
       "HBox(children=(FloatProgress(value=1.0, bar_style='info', description='Validating', layout=Layout(flex='2'), m…"
      ]
     },
     "metadata": {},
     "output_type": "display_data"
    },
    {
     "name": "stderr",
     "output_type": "stream",
     "text": [
      "\n",
      "Epoch 00012: val_checkpoint_on reached 3.15794 (best 3.15794), saving model to ../saved_model/flickr30k_net_epoch=12.ckpt as top 1\n"
     ]
    },
    {
     "data": {
      "application/vnd.jupyter.widget-view+json": {
       "model_id": "",
       "version_major": 2,
       "version_minor": 0
      },
      "text/plain": [
       "HBox(children=(FloatProgress(value=1.0, bar_style='info', description='Validating', layout=Layout(flex='2'), m…"
      ]
     },
     "metadata": {},
     "output_type": "display_data"
    },
    {
     "name": "stderr",
     "output_type": "stream",
     "text": [
      "\n",
      "Epoch 00013: val_checkpoint_on reached 3.12802 (best 3.12802), saving model to ../saved_model/flickr30k_net_epoch=13.ckpt as top 1\n"
     ]
    },
    {
     "data": {
      "application/vnd.jupyter.widget-view+json": {
       "model_id": "",
       "version_major": 2,
       "version_minor": 0
      },
      "text/plain": [
       "HBox(children=(FloatProgress(value=1.0, bar_style='info', description='Validating', layout=Layout(flex='2'), m…"
      ]
     },
     "metadata": {},
     "output_type": "display_data"
    },
    {
     "name": "stderr",
     "output_type": "stream",
     "text": [
      "\n",
      "Epoch 00014: val_checkpoint_on reached 3.09681 (best 3.09681), saving model to ../saved_model/flickr30k_net_epoch=14.ckpt as top 1\n"
     ]
    },
    {
     "data": {
      "application/vnd.jupyter.widget-view+json": {
       "model_id": "",
       "version_major": 2,
       "version_minor": 0
      },
      "text/plain": [
       "HBox(children=(FloatProgress(value=1.0, bar_style='info', description='Validating', layout=Layout(flex='2'), m…"
      ]
     },
     "metadata": {},
     "output_type": "display_data"
    },
    {
     "name": "stderr",
     "output_type": "stream",
     "text": [
      "\n",
      "Epoch 00015: val_checkpoint_on reached 3.07303 (best 3.07303), saving model to ../saved_model/flickr30k_net_epoch=15.ckpt as top 1\n"
     ]
    },
    {
     "data": {
      "application/vnd.jupyter.widget-view+json": {
       "model_id": "",
       "version_major": 2,
       "version_minor": 0
      },
      "text/plain": [
       "HBox(children=(FloatProgress(value=1.0, bar_style='info', description='Validating', layout=Layout(flex='2'), m…"
      ]
     },
     "metadata": {},
     "output_type": "display_data"
    },
    {
     "name": "stderr",
     "output_type": "stream",
     "text": [
      "\n",
      "Epoch 00016: val_checkpoint_on reached 3.04794 (best 3.04794), saving model to ../saved_model/flickr30k_net_epoch=16.ckpt as top 1\n"
     ]
    },
    {
     "data": {
      "application/vnd.jupyter.widget-view+json": {
       "model_id": "",
       "version_major": 2,
       "version_minor": 0
      },
      "text/plain": [
       "HBox(children=(FloatProgress(value=1.0, bar_style='info', description='Validating', layout=Layout(flex='2'), m…"
      ]
     },
     "metadata": {},
     "output_type": "display_data"
    },
    {
     "name": "stderr",
     "output_type": "stream",
     "text": [
      "\n",
      "Epoch 00017: val_checkpoint_on reached 3.02661 (best 3.02661), saving model to ../saved_model/flickr30k_net_epoch=17.ckpt as top 1\n"
     ]
    },
    {
     "data": {
      "application/vnd.jupyter.widget-view+json": {
       "model_id": "",
       "version_major": 2,
       "version_minor": 0
      },
      "text/plain": [
       "HBox(children=(FloatProgress(value=1.0, bar_style='info', description='Validating', layout=Layout(flex='2'), m…"
      ]
     },
     "metadata": {},
     "output_type": "display_data"
    },
    {
     "name": "stderr",
     "output_type": "stream",
     "text": [
      "\n",
      "Epoch 00018: val_checkpoint_on reached 3.00497 (best 3.00497), saving model to ../saved_model/flickr30k_net_epoch=18.ckpt as top 1\n"
     ]
    },
    {
     "data": {
      "application/vnd.jupyter.widget-view+json": {
       "model_id": "",
       "version_major": 2,
       "version_minor": 0
      },
      "text/plain": [
       "HBox(children=(FloatProgress(value=1.0, bar_style='info', description='Validating', layout=Layout(flex='2'), m…"
      ]
     },
     "metadata": {},
     "output_type": "display_data"
    },
    {
     "name": "stderr",
     "output_type": "stream",
     "text": [
      "\n",
      "Epoch 00019: val_checkpoint_on reached 2.98784 (best 2.98784), saving model to ../saved_model/flickr30k_net_epoch=19.ckpt as top 1\n"
     ]
    },
    {
     "data": {
      "application/vnd.jupyter.widget-view+json": {
       "model_id": "",
       "version_major": 2,
       "version_minor": 0
      },
      "text/plain": [
       "HBox(children=(FloatProgress(value=1.0, bar_style='info', description='Validating', layout=Layout(flex='2'), m…"
      ]
     },
     "metadata": {},
     "output_type": "display_data"
    },
    {
     "name": "stderr",
     "output_type": "stream",
     "text": [
      "\n",
      "Epoch 00020: val_checkpoint_on reached 2.96950 (best 2.96950), saving model to ../saved_model/flickr30k_net_epoch=20.ckpt as top 1\n"
     ]
    },
    {
     "data": {
      "application/vnd.jupyter.widget-view+json": {
       "model_id": "",
       "version_major": 2,
       "version_minor": 0
      },
      "text/plain": [
       "HBox(children=(FloatProgress(value=1.0, bar_style='info', description='Validating', layout=Layout(flex='2'), m…"
      ]
     },
     "metadata": {},
     "output_type": "display_data"
    },
    {
     "name": "stderr",
     "output_type": "stream",
     "text": [
      "\n",
      "Epoch 00021: val_checkpoint_on reached 2.95460 (best 2.95460), saving model to ../saved_model/flickr30k_net_epoch=21.ckpt as top 1\n"
     ]
    },
    {
     "data": {
      "application/vnd.jupyter.widget-view+json": {
       "model_id": "",
       "version_major": 2,
       "version_minor": 0
      },
      "text/plain": [
       "HBox(children=(FloatProgress(value=1.0, bar_style='info', description='Validating', layout=Layout(flex='2'), m…"
      ]
     },
     "metadata": {},
     "output_type": "display_data"
    },
    {
     "name": "stderr",
     "output_type": "stream",
     "text": [
      "\n",
      "Epoch 00022: val_checkpoint_on reached 2.94212 (best 2.94212), saving model to ../saved_model/flickr30k_net_epoch=22.ckpt as top 1\n"
     ]
    },
    {
     "data": {
      "application/vnd.jupyter.widget-view+json": {
       "model_id": "",
       "version_major": 2,
       "version_minor": 0
      },
      "text/plain": [
       "HBox(children=(FloatProgress(value=1.0, bar_style='info', description='Validating', layout=Layout(flex='2'), m…"
      ]
     },
     "metadata": {},
     "output_type": "display_data"
    },
    {
     "name": "stderr",
     "output_type": "stream",
     "text": [
      "\n",
      "Epoch 00023: val_checkpoint_on reached 2.92669 (best 2.92669), saving model to ../saved_model/flickr30k_net_epoch=23.ckpt as top 1\n"
     ]
    },
    {
     "data": {
      "application/vnd.jupyter.widget-view+json": {
       "model_id": "",
       "version_major": 2,
       "version_minor": 0
      },
      "text/plain": [
       "HBox(children=(FloatProgress(value=1.0, bar_style='info', description='Validating', layout=Layout(flex='2'), m…"
      ]
     },
     "metadata": {},
     "output_type": "display_data"
    },
    {
     "name": "stderr",
     "output_type": "stream",
     "text": [
      "\n",
      "Epoch 00024: val_checkpoint_on reached 2.91433 (best 2.91433), saving model to ../saved_model/flickr30k_net_epoch=24.ckpt as top 1\n"
     ]
    },
    {
     "data": {
      "application/vnd.jupyter.widget-view+json": {
       "model_id": "",
       "version_major": 2,
       "version_minor": 0
      },
      "text/plain": [
       "HBox(children=(FloatProgress(value=1.0, bar_style='info', description='Validating', layout=Layout(flex='2'), m…"
      ]
     },
     "metadata": {},
     "output_type": "display_data"
    },
    {
     "name": "stderr",
     "output_type": "stream",
     "text": [
      "\n",
      "Epoch 00025: val_checkpoint_on reached 2.89917 (best 2.89917), saving model to ../saved_model/flickr30k_net_epoch=25.ckpt as top 1\n"
     ]
    },
    {
     "data": {
      "application/vnd.jupyter.widget-view+json": {
       "model_id": "",
       "version_major": 2,
       "version_minor": 0
      },
      "text/plain": [
       "HBox(children=(FloatProgress(value=1.0, bar_style='info', description='Validating', layout=Layout(flex='2'), m…"
      ]
     },
     "metadata": {},
     "output_type": "display_data"
    },
    {
     "name": "stderr",
     "output_type": "stream",
     "text": [
      "\n",
      "Epoch 00026: val_checkpoint_on reached 2.88760 (best 2.88760), saving model to ../saved_model/flickr30k_net_epoch=26.ckpt as top 1\n"
     ]
    },
    {
     "data": {
      "application/vnd.jupyter.widget-view+json": {
       "model_id": "",
       "version_major": 2,
       "version_minor": 0
      },
      "text/plain": [
       "HBox(children=(FloatProgress(value=1.0, bar_style='info', description='Validating', layout=Layout(flex='2'), m…"
      ]
     },
     "metadata": {},
     "output_type": "display_data"
    },
    {
     "name": "stderr",
     "output_type": "stream",
     "text": [
      "\n",
      "Epoch 00027: val_checkpoint_on reached 2.87324 (best 2.87324), saving model to ../saved_model/flickr30k_net_epoch=27.ckpt as top 1\n"
     ]
    },
    {
     "data": {
      "application/vnd.jupyter.widget-view+json": {
       "model_id": "",
       "version_major": 2,
       "version_minor": 0
      },
      "text/plain": [
       "HBox(children=(FloatProgress(value=1.0, bar_style='info', description='Validating', layout=Layout(flex='2'), m…"
      ]
     },
     "metadata": {},
     "output_type": "display_data"
    },
    {
     "name": "stderr",
     "output_type": "stream",
     "text": [
      "\n",
      "Epoch 00028: val_checkpoint_on reached 2.86365 (best 2.86365), saving model to ../saved_model/flickr30k_net_epoch=28.ckpt as top 1\n"
     ]
    },
    {
     "data": {
      "application/vnd.jupyter.widget-view+json": {
       "model_id": "",
       "version_major": 2,
       "version_minor": 0
      },
      "text/plain": [
       "HBox(children=(FloatProgress(value=1.0, bar_style='info', description='Validating', layout=Layout(flex='2'), m…"
      ]
     },
     "metadata": {},
     "output_type": "display_data"
    },
    {
     "name": "stderr",
     "output_type": "stream",
     "text": [
      "\n",
      "Epoch 00029: val_checkpoint_on reached 2.85537 (best 2.85537), saving model to ../saved_model/flickr30k_net_epoch=29.ckpt as top 1\n"
     ]
    },
    {
     "data": {
      "application/vnd.jupyter.widget-view+json": {
       "model_id": "",
       "version_major": 2,
       "version_minor": 0
      },
      "text/plain": [
       "HBox(children=(FloatProgress(value=1.0, bar_style='info', description='Validating', layout=Layout(flex='2'), m…"
      ]
     },
     "metadata": {},
     "output_type": "display_data"
    },
    {
     "name": "stderr",
     "output_type": "stream",
     "text": [
      "\n",
      "Epoch 00030: val_checkpoint_on reached 2.84772 (best 2.84772), saving model to ../saved_model/flickr30k_net_epoch=30.ckpt as top 1\n"
     ]
    },
    {
     "data": {
      "application/vnd.jupyter.widget-view+json": {
       "model_id": "",
       "version_major": 2,
       "version_minor": 0
      },
      "text/plain": [
       "HBox(children=(FloatProgress(value=1.0, bar_style='info', description='Validating', layout=Layout(flex='2'), m…"
      ]
     },
     "metadata": {},
     "output_type": "display_data"
    },
    {
     "name": "stderr",
     "output_type": "stream",
     "text": [
      "\n",
      "Epoch 00031: val_checkpoint_on reached 2.83481 (best 2.83481), saving model to ../saved_model/flickr30k_net_epoch=31.ckpt as top 1\n"
     ]
    },
    {
     "data": {
      "application/vnd.jupyter.widget-view+json": {
       "model_id": "",
       "version_major": 2,
       "version_minor": 0
      },
      "text/plain": [
       "HBox(children=(FloatProgress(value=1.0, bar_style='info', description='Validating', layout=Layout(flex='2'), m…"
      ]
     },
     "metadata": {},
     "output_type": "display_data"
    },
    {
     "name": "stderr",
     "output_type": "stream",
     "text": [
      "\n",
      "Epoch 00032: val_checkpoint_on reached 2.82565 (best 2.82565), saving model to ../saved_model/flickr30k_net_epoch=32.ckpt as top 1\n"
     ]
    },
    {
     "data": {
      "application/vnd.jupyter.widget-view+json": {
       "model_id": "",
       "version_major": 2,
       "version_minor": 0
      },
      "text/plain": [
       "HBox(children=(FloatProgress(value=1.0, bar_style='info', description='Validating', layout=Layout(flex='2'), m…"
      ]
     },
     "metadata": {},
     "output_type": "display_data"
    },
    {
     "name": "stderr",
     "output_type": "stream",
     "text": [
      "\n",
      "Epoch 00033: val_checkpoint_on reached 2.81889 (best 2.81889), saving model to ../saved_model/flickr30k_net_epoch=33.ckpt as top 1\n"
     ]
    },
    {
     "data": {
      "application/vnd.jupyter.widget-view+json": {
       "model_id": "",
       "version_major": 2,
       "version_minor": 0
      },
      "text/plain": [
       "HBox(children=(FloatProgress(value=1.0, bar_style='info', description='Validating', layout=Layout(flex='2'), m…"
      ]
     },
     "metadata": {},
     "output_type": "display_data"
    },
    {
     "name": "stderr",
     "output_type": "stream",
     "text": [
      "\n",
      "Epoch 00034: val_checkpoint_on reached 2.81056 (best 2.81056), saving model to ../saved_model/flickr30k_net_epoch=34.ckpt as top 1\n"
     ]
    },
    {
     "data": {
      "application/vnd.jupyter.widget-view+json": {
       "model_id": "",
       "version_major": 2,
       "version_minor": 0
      },
      "text/plain": [
       "HBox(children=(FloatProgress(value=1.0, bar_style='info', description='Validating', layout=Layout(flex='2'), m…"
      ]
     },
     "metadata": {},
     "output_type": "display_data"
    },
    {
     "name": "stderr",
     "output_type": "stream",
     "text": [
      "\n",
      "Epoch 00035: val_checkpoint_on reached 2.80240 (best 2.80240), saving model to ../saved_model/flickr30k_net_epoch=35.ckpt as top 1\n"
     ]
    },
    {
     "data": {
      "application/vnd.jupyter.widget-view+json": {
       "model_id": "",
       "version_major": 2,
       "version_minor": 0
      },
      "text/plain": [
       "HBox(children=(FloatProgress(value=1.0, bar_style='info', description='Validating', layout=Layout(flex='2'), m…"
      ]
     },
     "metadata": {},
     "output_type": "display_data"
    },
    {
     "name": "stderr",
     "output_type": "stream",
     "text": [
      "\n",
      "Epoch 00036: val_checkpoint_on reached 2.79307 (best 2.79307), saving model to ../saved_model/flickr30k_net_epoch=36.ckpt as top 1\n"
     ]
    },
    {
     "data": {
      "application/vnd.jupyter.widget-view+json": {
       "model_id": "",
       "version_major": 2,
       "version_minor": 0
      },
      "text/plain": [
       "HBox(children=(FloatProgress(value=1.0, bar_style='info', description='Validating', layout=Layout(flex='2'), m…"
      ]
     },
     "metadata": {},
     "output_type": "display_data"
    },
    {
     "name": "stderr",
     "output_type": "stream",
     "text": [
      "\n",
      "Epoch 00037: val_checkpoint_on reached 2.78849 (best 2.78849), saving model to ../saved_model/flickr30k_net_epoch=37.ckpt as top 1\n"
     ]
    },
    {
     "data": {
      "application/vnd.jupyter.widget-view+json": {
       "model_id": "",
       "version_major": 2,
       "version_minor": 0
      },
      "text/plain": [
       "HBox(children=(FloatProgress(value=1.0, bar_style='info', description='Validating', layout=Layout(flex='2'), m…"
      ]
     },
     "metadata": {},
     "output_type": "display_data"
    },
    {
     "name": "stderr",
     "output_type": "stream",
     "text": [
      "\n",
      "Epoch 00038: val_checkpoint_on reached 2.77894 (best 2.77894), saving model to ../saved_model/flickr30k_net_epoch=38.ckpt as top 1\n"
     ]
    },
    {
     "data": {
      "application/vnd.jupyter.widget-view+json": {
       "model_id": "",
       "version_major": 2,
       "version_minor": 0
      },
      "text/plain": [
       "HBox(children=(FloatProgress(value=1.0, bar_style='info', description='Validating', layout=Layout(flex='2'), m…"
      ]
     },
     "metadata": {},
     "output_type": "display_data"
    },
    {
     "name": "stderr",
     "output_type": "stream",
     "text": [
      "\n",
      "Epoch 00039: val_checkpoint_on reached 2.77667 (best 2.77667), saving model to ../saved_model/flickr30k_net_epoch=39.ckpt as top 1\n"
     ]
    },
    {
     "data": {
      "application/vnd.jupyter.widget-view+json": {
       "model_id": "",
       "version_major": 2,
       "version_minor": 0
      },
      "text/plain": [
       "HBox(children=(FloatProgress(value=1.0, bar_style='info', description='Validating', layout=Layout(flex='2'), m…"
      ]
     },
     "metadata": {},
     "output_type": "display_data"
    },
    {
     "name": "stderr",
     "output_type": "stream",
     "text": [
      "\n",
      "Epoch 00040: val_checkpoint_on reached 2.76818 (best 2.76818), saving model to ../saved_model/flickr30k_net_epoch=40.ckpt as top 1\n"
     ]
    },
    {
     "data": {
      "application/vnd.jupyter.widget-view+json": {
       "model_id": "",
       "version_major": 2,
       "version_minor": 0
      },
      "text/plain": [
       "HBox(children=(FloatProgress(value=1.0, bar_style='info', description='Validating', layout=Layout(flex='2'), m…"
      ]
     },
     "metadata": {},
     "output_type": "display_data"
    },
    {
     "name": "stderr",
     "output_type": "stream",
     "text": [
      "\n",
      "Epoch 00041: val_checkpoint_on reached 2.76234 (best 2.76234), saving model to ../saved_model/flickr30k_net_epoch=41.ckpt as top 1\n"
     ]
    },
    {
     "data": {
      "application/vnd.jupyter.widget-view+json": {
       "model_id": "",
       "version_major": 2,
       "version_minor": 0
      },
      "text/plain": [
       "HBox(children=(FloatProgress(value=1.0, bar_style='info', description='Validating', layout=Layout(flex='2'), m…"
      ]
     },
     "metadata": {},
     "output_type": "display_data"
    },
    {
     "name": "stderr",
     "output_type": "stream",
     "text": [
      "\n",
      "Epoch 00042: val_checkpoint_on reached 2.75670 (best 2.75670), saving model to ../saved_model/flickr30k_net_epoch=42.ckpt as top 1\n"
     ]
    },
    {
     "data": {
      "application/vnd.jupyter.widget-view+json": {
       "model_id": "",
       "version_major": 2,
       "version_minor": 0
      },
      "text/plain": [
       "HBox(children=(FloatProgress(value=1.0, bar_style='info', description='Validating', layout=Layout(flex='2'), m…"
      ]
     },
     "metadata": {},
     "output_type": "display_data"
    },
    {
     "name": "stderr",
     "output_type": "stream",
     "text": [
      "\n",
      "Epoch 00043: val_checkpoint_on reached 2.74845 (best 2.74845), saving model to ../saved_model/flickr30k_net_epoch=43.ckpt as top 1\n"
     ]
    },
    {
     "data": {
      "application/vnd.jupyter.widget-view+json": {
       "model_id": "",
       "version_major": 2,
       "version_minor": 0
      },
      "text/plain": [
       "HBox(children=(FloatProgress(value=1.0, bar_style='info', description='Validating', layout=Layout(flex='2'), m…"
      ]
     },
     "metadata": {},
     "output_type": "display_data"
    },
    {
     "name": "stderr",
     "output_type": "stream",
     "text": [
      "\n",
      "Epoch 00044: val_checkpoint_on reached 2.74537 (best 2.74537), saving model to ../saved_model/flickr30k_net_epoch=44.ckpt as top 1\n"
     ]
    },
    {
     "data": {
      "application/vnd.jupyter.widget-view+json": {
       "model_id": "",
       "version_major": 2,
       "version_minor": 0
      },
      "text/plain": [
       "HBox(children=(FloatProgress(value=1.0, bar_style='info', description='Validating', layout=Layout(flex='2'), m…"
      ]
     },
     "metadata": {},
     "output_type": "display_data"
    },
    {
     "name": "stderr",
     "output_type": "stream",
     "text": [
      "\n",
      "Epoch 00045: val_checkpoint_on reached 2.73486 (best 2.73486), saving model to ../saved_model/flickr30k_net_epoch=45.ckpt as top 1\n"
     ]
    },
    {
     "data": {
      "application/vnd.jupyter.widget-view+json": {
       "model_id": "",
       "version_major": 2,
       "version_minor": 0
      },
      "text/plain": [
       "HBox(children=(FloatProgress(value=1.0, bar_style='info', description='Validating', layout=Layout(flex='2'), m…"
      ]
     },
     "metadata": {},
     "output_type": "display_data"
    },
    {
     "name": "stderr",
     "output_type": "stream",
     "text": [
      "\n",
      "Epoch 00046: val_checkpoint_on reached 2.73346 (best 2.73346), saving model to ../saved_model/flickr30k_net_epoch=46.ckpt as top 1\n"
     ]
    },
    {
     "data": {
      "application/vnd.jupyter.widget-view+json": {
       "model_id": "",
       "version_major": 2,
       "version_minor": 0
      },
      "text/plain": [
       "HBox(children=(FloatProgress(value=1.0, bar_style='info', description='Validating', layout=Layout(flex='2'), m…"
      ]
     },
     "metadata": {},
     "output_type": "display_data"
    },
    {
     "name": "stderr",
     "output_type": "stream",
     "text": [
      "\n",
      "Epoch 00047: val_checkpoint_on reached 2.72845 (best 2.72845), saving model to ../saved_model/flickr30k_net_epoch=47.ckpt as top 1\n"
     ]
    },
    {
     "data": {
      "application/vnd.jupyter.widget-view+json": {
       "model_id": "",
       "version_major": 2,
       "version_minor": 0
      },
      "text/plain": [
       "HBox(children=(FloatProgress(value=1.0, bar_style='info', description='Validating', layout=Layout(flex='2'), m…"
      ]
     },
     "metadata": {},
     "output_type": "display_data"
    },
    {
     "name": "stderr",
     "output_type": "stream",
     "text": [
      "\n",
      "Epoch 00048: val_checkpoint_on reached 2.72358 (best 2.72358), saving model to ../saved_model/flickr30k_net_epoch=48.ckpt as top 1\n"
     ]
    },
    {
     "data": {
      "application/vnd.jupyter.widget-view+json": {
       "model_id": "",
       "version_major": 2,
       "version_minor": 0
      },
      "text/plain": [
       "HBox(children=(FloatProgress(value=1.0, bar_style='info', description='Validating', layout=Layout(flex='2'), m…"
      ]
     },
     "metadata": {},
     "output_type": "display_data"
    },
    {
     "name": "stderr",
     "output_type": "stream",
     "text": [
      "\n",
      "Epoch 00049: val_checkpoint_on reached 2.71688 (best 2.71688), saving model to ../saved_model/flickr30k_net_epoch=49.ckpt as top 1\n"
     ]
    },
    {
     "data": {
      "application/vnd.jupyter.widget-view+json": {
       "model_id": "",
       "version_major": 2,
       "version_minor": 0
      },
      "text/plain": [
       "HBox(children=(FloatProgress(value=1.0, bar_style='info', description='Validating', layout=Layout(flex='2'), m…"
      ]
     },
     "metadata": {},
     "output_type": "display_data"
    },
    {
     "name": "stderr",
     "output_type": "stream",
     "text": [
      "\n",
      "Epoch 00050: val_checkpoint_on reached 2.71406 (best 2.71406), saving model to ../saved_model/flickr30k_net_epoch=50.ckpt as top 1\n"
     ]
    },
    {
     "data": {
      "application/vnd.jupyter.widget-view+json": {
       "model_id": "",
       "version_major": 2,
       "version_minor": 0
      },
      "text/plain": [
       "HBox(children=(FloatProgress(value=1.0, bar_style='info', description='Validating', layout=Layout(flex='2'), m…"
      ]
     },
     "metadata": {},
     "output_type": "display_data"
    },
    {
     "name": "stderr",
     "output_type": "stream",
     "text": [
      "\n",
      "Epoch 00051: val_checkpoint_on reached 2.71049 (best 2.71049), saving model to ../saved_model/flickr30k_net_epoch=51.ckpt as top 1\n"
     ]
    },
    {
     "data": {
      "application/vnd.jupyter.widget-view+json": {
       "model_id": "",
       "version_major": 2,
       "version_minor": 0
      },
      "text/plain": [
       "HBox(children=(FloatProgress(value=1.0, bar_style='info', description='Validating', layout=Layout(flex='2'), m…"
      ]
     },
     "metadata": {},
     "output_type": "display_data"
    },
    {
     "name": "stderr",
     "output_type": "stream",
     "text": [
      "\n",
      "Epoch 00052: val_checkpoint_on reached 2.70533 (best 2.70533), saving model to ../saved_model/flickr30k_net_epoch=52.ckpt as top 1\n"
     ]
    },
    {
     "data": {
      "application/vnd.jupyter.widget-view+json": {
       "model_id": "",
       "version_major": 2,
       "version_minor": 0
      },
      "text/plain": [
       "HBox(children=(FloatProgress(value=1.0, bar_style='info', description='Validating', layout=Layout(flex='2'), m…"
      ]
     },
     "metadata": {},
     "output_type": "display_data"
    },
    {
     "name": "stderr",
     "output_type": "stream",
     "text": [
      "\n",
      "Epoch 00053: val_checkpoint_on reached 2.69935 (best 2.69935), saving model to ../saved_model/flickr30k_net_epoch=53.ckpt as top 1\n"
     ]
    },
    {
     "data": {
      "application/vnd.jupyter.widget-view+json": {
       "model_id": "",
       "version_major": 2,
       "version_minor": 0
      },
      "text/plain": [
       "HBox(children=(FloatProgress(value=1.0, bar_style='info', description='Validating', layout=Layout(flex='2'), m…"
      ]
     },
     "metadata": {},
     "output_type": "display_data"
    },
    {
     "name": "stderr",
     "output_type": "stream",
     "text": [
      "\n",
      "Epoch 00054: val_checkpoint_on reached 2.69614 (best 2.69614), saving model to ../saved_model/flickr30k_net_epoch=54.ckpt as top 1\n"
     ]
    },
    {
     "data": {
      "application/vnd.jupyter.widget-view+json": {
       "model_id": "",
       "version_major": 2,
       "version_minor": 0
      },
      "text/plain": [
       "HBox(children=(FloatProgress(value=1.0, bar_style='info', description='Validating', layout=Layout(flex='2'), m…"
      ]
     },
     "metadata": {},
     "output_type": "display_data"
    },
    {
     "name": "stderr",
     "output_type": "stream",
     "text": [
      "\n",
      "Epoch 00055: val_checkpoint_on reached 2.69126 (best 2.69126), saving model to ../saved_model/flickr30k_net_epoch=55.ckpt as top 1\n"
     ]
    },
    {
     "data": {
      "application/vnd.jupyter.widget-view+json": {
       "model_id": "",
       "version_major": 2,
       "version_minor": 0
      },
      "text/plain": [
       "HBox(children=(FloatProgress(value=1.0, bar_style='info', description='Validating', layout=Layout(flex='2'), m…"
      ]
     },
     "metadata": {},
     "output_type": "display_data"
    },
    {
     "name": "stderr",
     "output_type": "stream",
     "text": [
      "\n",
      "Epoch 00056: val_checkpoint_on  was not in top 1\n"
     ]
    },
    {
     "data": {
      "application/vnd.jupyter.widget-view+json": {
       "model_id": "",
       "version_major": 2,
       "version_minor": 0
      },
      "text/plain": [
       "HBox(children=(FloatProgress(value=1.0, bar_style='info', description='Validating', layout=Layout(flex='2'), m…"
      ]
     },
     "metadata": {},
     "output_type": "display_data"
    },
    {
     "name": "stderr",
     "output_type": "stream",
     "text": [
      "\n",
      "Epoch 00057: val_checkpoint_on reached 2.68646 (best 2.68646), saving model to ../saved_model/flickr30k_net_epoch=57.ckpt as top 1\n"
     ]
    },
    {
     "data": {
      "application/vnd.jupyter.widget-view+json": {
       "model_id": "",
       "version_major": 2,
       "version_minor": 0
      },
      "text/plain": [
       "HBox(children=(FloatProgress(value=1.0, bar_style='info', description='Validating', layout=Layout(flex='2'), m…"
      ]
     },
     "metadata": {},
     "output_type": "display_data"
    },
    {
     "name": "stderr",
     "output_type": "stream",
     "text": [
      "\n",
      "Epoch 00058: val_checkpoint_on reached 2.68200 (best 2.68200), saving model to ../saved_model/flickr30k_net_epoch=58.ckpt as top 1\n"
     ]
    },
    {
     "data": {
      "application/vnd.jupyter.widget-view+json": {
       "model_id": "",
       "version_major": 2,
       "version_minor": 0
      },
      "text/plain": [
       "HBox(children=(FloatProgress(value=1.0, bar_style='info', description='Validating', layout=Layout(flex='2'), m…"
      ]
     },
     "metadata": {},
     "output_type": "display_data"
    },
    {
     "name": "stderr",
     "output_type": "stream",
     "text": [
      "\n",
      "Epoch 00059: val_checkpoint_on reached 2.67546 (best 2.67546), saving model to ../saved_model/flickr30k_net_epoch=59.ckpt as top 1\n"
     ]
    },
    {
     "data": {
      "application/vnd.jupyter.widget-view+json": {
       "model_id": "",
       "version_major": 2,
       "version_minor": 0
      },
      "text/plain": [
       "HBox(children=(FloatProgress(value=1.0, bar_style='info', description='Validating', layout=Layout(flex='2'), m…"
      ]
     },
     "metadata": {},
     "output_type": "display_data"
    },
    {
     "name": "stderr",
     "output_type": "stream",
     "text": [
      "\n",
      "Epoch 00060: val_checkpoint_on reached 2.67506 (best 2.67506), saving model to ../saved_model/flickr30k_net_epoch=60.ckpt as top 1\n"
     ]
    },
    {
     "data": {
      "application/vnd.jupyter.widget-view+json": {
       "model_id": "",
       "version_major": 2,
       "version_minor": 0
      },
      "text/plain": [
       "HBox(children=(FloatProgress(value=1.0, bar_style='info', description='Validating', layout=Layout(flex='2'), m…"
      ]
     },
     "metadata": {},
     "output_type": "display_data"
    },
    {
     "name": "stderr",
     "output_type": "stream",
     "text": [
      "\n",
      "Epoch 00061: val_checkpoint_on reached 2.67203 (best 2.67203), saving model to ../saved_model/flickr30k_net_epoch=61.ckpt as top 1\n"
     ]
    },
    {
     "data": {
      "application/vnd.jupyter.widget-view+json": {
       "model_id": "",
       "version_major": 2,
       "version_minor": 0
      },
      "text/plain": [
       "HBox(children=(FloatProgress(value=1.0, bar_style='info', description='Validating', layout=Layout(flex='2'), m…"
      ]
     },
     "metadata": {},
     "output_type": "display_data"
    },
    {
     "name": "stderr",
     "output_type": "stream",
     "text": [
      "\n",
      "Epoch 00062: val_checkpoint_on reached 2.66657 (best 2.66657), saving model to ../saved_model/flickr30k_net_epoch=62.ckpt as top 1\n"
     ]
    },
    {
     "data": {
      "application/vnd.jupyter.widget-view+json": {
       "model_id": "",
       "version_major": 2,
       "version_minor": 0
      },
      "text/plain": [
       "HBox(children=(FloatProgress(value=1.0, bar_style='info', description='Validating', layout=Layout(flex='2'), m…"
      ]
     },
     "metadata": {},
     "output_type": "display_data"
    },
    {
     "name": "stderr",
     "output_type": "stream",
     "text": [
      "\n",
      "Epoch 00063: val_checkpoint_on  was not in top 1\n"
     ]
    },
    {
     "data": {
      "application/vnd.jupyter.widget-view+json": {
       "model_id": "",
       "version_major": 2,
       "version_minor": 0
      },
      "text/plain": [
       "HBox(children=(FloatProgress(value=1.0, bar_style='info', description='Validating', layout=Layout(flex='2'), m…"
      ]
     },
     "metadata": {},
     "output_type": "display_data"
    },
    {
     "name": "stderr",
     "output_type": "stream",
     "text": [
      "\n",
      "Epoch 00064: val_checkpoint_on reached 2.66293 (best 2.66293), saving model to ../saved_model/flickr30k_net_epoch=64.ckpt as top 1\n"
     ]
    },
    {
     "data": {
      "application/vnd.jupyter.widget-view+json": {
       "model_id": "",
       "version_major": 2,
       "version_minor": 0
      },
      "text/plain": [
       "HBox(children=(FloatProgress(value=1.0, bar_style='info', description='Validating', layout=Layout(flex='2'), m…"
      ]
     },
     "metadata": {},
     "output_type": "display_data"
    },
    {
     "name": "stderr",
     "output_type": "stream",
     "text": [
      "\n",
      "Epoch 00065: val_checkpoint_on reached 2.66096 (best 2.66096), saving model to ../saved_model/flickr30k_net_epoch=65.ckpt as top 1\n"
     ]
    },
    {
     "data": {
      "application/vnd.jupyter.widget-view+json": {
       "model_id": "",
       "version_major": 2,
       "version_minor": 0
      },
      "text/plain": [
       "HBox(children=(FloatProgress(value=1.0, bar_style='info', description='Validating', layout=Layout(flex='2'), m…"
      ]
     },
     "metadata": {},
     "output_type": "display_data"
    },
    {
     "name": "stderr",
     "output_type": "stream",
     "text": [
      "\n",
      "Epoch 00066: val_checkpoint_on reached 2.65526 (best 2.65526), saving model to ../saved_model/flickr30k_net_epoch=66.ckpt as top 1\n"
     ]
    },
    {
     "data": {
      "application/vnd.jupyter.widget-view+json": {
       "model_id": "",
       "version_major": 2,
       "version_minor": 0
      },
      "text/plain": [
       "HBox(children=(FloatProgress(value=1.0, bar_style='info', description='Validating', layout=Layout(flex='2'), m…"
      ]
     },
     "metadata": {},
     "output_type": "display_data"
    },
    {
     "name": "stderr",
     "output_type": "stream",
     "text": [
      "\n",
      "Epoch 00067: val_checkpoint_on reached 2.65452 (best 2.65452), saving model to ../saved_model/flickr30k_net_epoch=67.ckpt as top 1\n"
     ]
    },
    {
     "data": {
      "application/vnd.jupyter.widget-view+json": {
       "model_id": "",
       "version_major": 2,
       "version_minor": 0
      },
      "text/plain": [
       "HBox(children=(FloatProgress(value=1.0, bar_style='info', description='Validating', layout=Layout(flex='2'), m…"
      ]
     },
     "metadata": {},
     "output_type": "display_data"
    },
    {
     "name": "stderr",
     "output_type": "stream",
     "text": [
      "\n",
      "Epoch 00068: val_checkpoint_on reached 2.65356 (best 2.65356), saving model to ../saved_model/flickr30k_net_epoch=68.ckpt as top 1\n"
     ]
    },
    {
     "data": {
      "application/vnd.jupyter.widget-view+json": {
       "model_id": "",
       "version_major": 2,
       "version_minor": 0
      },
      "text/plain": [
       "HBox(children=(FloatProgress(value=1.0, bar_style='info', description='Validating', layout=Layout(flex='2'), m…"
      ]
     },
     "metadata": {},
     "output_type": "display_data"
    },
    {
     "name": "stderr",
     "output_type": "stream",
     "text": [
      "\n",
      "Epoch 00069: val_checkpoint_on reached 2.64873 (best 2.64873), saving model to ../saved_model/flickr30k_net_epoch=69.ckpt as top 1\n"
     ]
    },
    {
     "data": {
      "application/vnd.jupyter.widget-view+json": {
       "model_id": "",
       "version_major": 2,
       "version_minor": 0
      },
      "text/plain": [
       "HBox(children=(FloatProgress(value=1.0, bar_style='info', description='Validating', layout=Layout(flex='2'), m…"
      ]
     },
     "metadata": {},
     "output_type": "display_data"
    },
    {
     "name": "stderr",
     "output_type": "stream",
     "text": [
      "\n",
      "Epoch 00070: val_checkpoint_on reached 2.64495 (best 2.64495), saving model to ../saved_model/flickr30k_net_epoch=70.ckpt as top 1\n"
     ]
    },
    {
     "data": {
      "application/vnd.jupyter.widget-view+json": {
       "model_id": "",
       "version_major": 2,
       "version_minor": 0
      },
      "text/plain": [
       "HBox(children=(FloatProgress(value=1.0, bar_style='info', description='Validating', layout=Layout(flex='2'), m…"
      ]
     },
     "metadata": {},
     "output_type": "display_data"
    },
    {
     "name": "stderr",
     "output_type": "stream",
     "text": [
      "\n",
      "Epoch 00071: val_checkpoint_on reached 2.64417 (best 2.64417), saving model to ../saved_model/flickr30k_net_epoch=71.ckpt as top 1\n"
     ]
    },
    {
     "data": {
      "application/vnd.jupyter.widget-view+json": {
       "model_id": "",
       "version_major": 2,
       "version_minor": 0
      },
      "text/plain": [
       "HBox(children=(FloatProgress(value=1.0, bar_style='info', description='Validating', layout=Layout(flex='2'), m…"
      ]
     },
     "metadata": {},
     "output_type": "display_data"
    },
    {
     "name": "stderr",
     "output_type": "stream",
     "text": [
      "\n",
      "Epoch 00072: val_checkpoint_on reached 2.64252 (best 2.64252), saving model to ../saved_model/flickr30k_net_epoch=72.ckpt as top 1\n"
     ]
    },
    {
     "data": {
      "application/vnd.jupyter.widget-view+json": {
       "model_id": "",
       "version_major": 2,
       "version_minor": 0
      },
      "text/plain": [
       "HBox(children=(FloatProgress(value=1.0, bar_style='info', description='Validating', layout=Layout(flex='2'), m…"
      ]
     },
     "metadata": {},
     "output_type": "display_data"
    },
    {
     "name": "stderr",
     "output_type": "stream",
     "text": [
      "\n",
      "Epoch 00073: val_checkpoint_on  was not in top 1\n"
     ]
    },
    {
     "data": {
      "application/vnd.jupyter.widget-view+json": {
       "model_id": "",
       "version_major": 2,
       "version_minor": 0
      },
      "text/plain": [
       "HBox(children=(FloatProgress(value=1.0, bar_style='info', description='Validating', layout=Layout(flex='2'), m…"
      ]
     },
     "metadata": {},
     "output_type": "display_data"
    },
    {
     "name": "stderr",
     "output_type": "stream",
     "text": [
      "\n",
      "Epoch 00074: val_checkpoint_on reached 2.63559 (best 2.63559), saving model to ../saved_model/flickr30k_net_epoch=74.ckpt as top 1\n"
     ]
    },
    {
     "data": {
      "application/vnd.jupyter.widget-view+json": {
       "model_id": "9e64424a6f834cd1b4f1e1ea97bc4721",
       "version_major": 2,
       "version_minor": 0
      },
      "text/plain": [
       "HBox(children=(FloatProgress(value=1.0, bar_style='info', description='Validating', layout=Layout(flex='2'), m…"
      ]
     },
     "metadata": {},
     "output_type": "display_data"
    },
    {
     "name": "stderr",
     "output_type": "stream",
     "text": [
      "IOPub message rate exceeded.\n",
      "The notebook server will temporarily stop sending output\n",
      "to the client in order to avoid crashing it.\n",
      "To change this limit, set the config variable\n",
      "`--NotebookApp.iopub_msg_rate_limit`.\n",
      "\n",
      "Current values:\n",
      "NotebookApp.iopub_msg_rate_limit=1000.0 (msgs/sec)\n",
      "NotebookApp.rate_limit_window=3.0 (secs)\n",
      "\n"
     ]
    },
    {
     "data": {
      "application/vnd.jupyter.widget-view+json": {
       "model_id": "",
       "version_major": 2,
       "version_minor": 0
      },
      "text/plain": [
       "HBox(children=(FloatProgress(value=1.0, bar_style='info', description='Validating', layout=Layout(flex='2'), m…"
      ]
     },
     "metadata": {},
     "output_type": "display_data"
    },
    {
     "name": "stderr",
     "output_type": "stream",
     "text": [
      "\n",
      "Epoch 00076: val_checkpoint_on  was not in top 1\n"
     ]
    },
    {
     "data": {
      "application/vnd.jupyter.widget-view+json": {
       "model_id": "",
       "version_major": 2,
       "version_minor": 0
      },
      "text/plain": [
       "HBox(children=(FloatProgress(value=1.0, bar_style='info', description='Validating', layout=Layout(flex='2'), m…"
      ]
     },
     "metadata": {},
     "output_type": "display_data"
    },
    {
     "name": "stderr",
     "output_type": "stream",
     "text": [
      "\n",
      "Epoch 00077: val_checkpoint_on reached 2.63031 (best 2.63031), saving model to ../saved_model/flickr30k_net_epoch=77.ckpt as top 1\n"
     ]
    },
    {
     "data": {
      "application/vnd.jupyter.widget-view+json": {
       "model_id": "",
       "version_major": 2,
       "version_minor": 0
      },
      "text/plain": [
       "HBox(children=(FloatProgress(value=1.0, bar_style='info', description='Validating', layout=Layout(flex='2'), m…"
      ]
     },
     "metadata": {},
     "output_type": "display_data"
    },
    {
     "name": "stderr",
     "output_type": "stream",
     "text": [
      "\n",
      "Epoch 00078: val_checkpoint_on reached 2.62618 (best 2.62618), saving model to ../saved_model/flickr30k_net_epoch=78.ckpt as top 1\n"
     ]
    },
    {
     "data": {
      "application/vnd.jupyter.widget-view+json": {
       "model_id": "",
       "version_major": 2,
       "version_minor": 0
      },
      "text/plain": [
       "HBox(children=(FloatProgress(value=1.0, bar_style='info', description='Validating', layout=Layout(flex='2'), m…"
      ]
     },
     "metadata": {},
     "output_type": "display_data"
    },
    {
     "name": "stderr",
     "output_type": "stream",
     "text": [
      "\n",
      "Epoch 00079: val_checkpoint_on reached 2.62205 (best 2.62205), saving model to ../saved_model/flickr30k_net_epoch=79.ckpt as top 1\n"
     ]
    },
    {
     "data": {
      "application/vnd.jupyter.widget-view+json": {
       "model_id": "",
       "version_major": 2,
       "version_minor": 0
      },
      "text/plain": [
       "HBox(children=(FloatProgress(value=1.0, bar_style='info', description='Validating', layout=Layout(flex='2'), m…"
      ]
     },
     "metadata": {},
     "output_type": "display_data"
    },
    {
     "name": "stderr",
     "output_type": "stream",
     "text": [
      "\n",
      "Epoch 00080: val_checkpoint_on reached 2.61993 (best 2.61993), saving model to ../saved_model/flickr30k_net_epoch=80.ckpt as top 1\n"
     ]
    },
    {
     "data": {
      "application/vnd.jupyter.widget-view+json": {
       "model_id": "",
       "version_major": 2,
       "version_minor": 0
      },
      "text/plain": [
       "HBox(children=(FloatProgress(value=1.0, bar_style='info', description='Validating', layout=Layout(flex='2'), m…"
      ]
     },
     "metadata": {},
     "output_type": "display_data"
    },
    {
     "name": "stderr",
     "output_type": "stream",
     "text": [
      "\n",
      "Epoch 00081: val_checkpoint_on  was not in top 1\n",
      "\n",
      "Epoch 00082: val_checkpoint_on  was not in top 1\n",
      "IOPub message rate exceeded.\n",
      "The notebook server will temporarily stop sending output\n",
      "to the client in order to avoid crashing it.\n",
      "To change this limit, set the config variable\n",
      "`--NotebookApp.iopub_msg_rate_limit`.\n",
      "\n",
      "Current values:\n",
      "NotebookApp.iopub_msg_rate_limit=1000.0 (msgs/sec)\n",
      "NotebookApp.rate_limit_window=3.0 (secs)\n",
      "\n"
     ]
    },
    {
     "data": {
      "application/vnd.jupyter.widget-view+json": {
       "model_id": "",
       "version_major": 2,
       "version_minor": 0
      },
      "text/plain": [
       "HBox(children=(FloatProgress(value=1.0, bar_style='info', description='Validating', layout=Layout(flex='2'), m…"
      ]
     },
     "metadata": {},
     "output_type": "display_data"
    },
    {
     "name": "stderr",
     "output_type": "stream",
     "text": [
      "\n",
      "Epoch 00083: val_checkpoint_on reached 2.61627 (best 2.61627), saving model to ../saved_model/flickr30k_net_epoch=83.ckpt as top 1\n"
     ]
    },
    {
     "data": {
      "application/vnd.jupyter.widget-view+json": {
       "model_id": "",
       "version_major": 2,
       "version_minor": 0
      },
      "text/plain": [
       "HBox(children=(FloatProgress(value=1.0, bar_style='info', description='Validating', layout=Layout(flex='2'), m…"
      ]
     },
     "metadata": {},
     "output_type": "display_data"
    },
    {
     "name": "stderr",
     "output_type": "stream",
     "text": [
      "\n",
      "Epoch 00084: val_checkpoint_on reached 2.61543 (best 2.61543), saving model to ../saved_model/flickr30k_net_epoch=84.ckpt as top 1\n"
     ]
    },
    {
     "data": {
      "application/vnd.jupyter.widget-view+json": {
       "model_id": "",
       "version_major": 2,
       "version_minor": 0
      },
      "text/plain": [
       "HBox(children=(FloatProgress(value=1.0, bar_style='info', description='Validating', layout=Layout(flex='2'), m…"
      ]
     },
     "metadata": {},
     "output_type": "display_data"
    },
    {
     "name": "stderr",
     "output_type": "stream",
     "text": [
      "\n",
      "Epoch 00085: val_checkpoint_on reached 2.61346 (best 2.61346), saving model to ../saved_model/flickr30k_net_epoch=85.ckpt as top 1\n"
     ]
    },
    {
     "data": {
      "application/vnd.jupyter.widget-view+json": {
       "model_id": "",
       "version_major": 2,
       "version_minor": 0
      },
      "text/plain": [
       "HBox(children=(FloatProgress(value=1.0, bar_style='info', description='Validating', layout=Layout(flex='2'), m…"
      ]
     },
     "metadata": {},
     "output_type": "display_data"
    },
    {
     "name": "stderr",
     "output_type": "stream",
     "text": [
      "\n",
      "Epoch 00086: val_checkpoint_on reached 2.60937 (best 2.60937), saving model to ../saved_model/flickr30k_net_epoch=86.ckpt as top 1\n"
     ]
    },
    {
     "data": {
      "application/vnd.jupyter.widget-view+json": {
       "model_id": "",
       "version_major": 2,
       "version_minor": 0
      },
      "text/plain": [
       "HBox(children=(FloatProgress(value=1.0, bar_style='info', description='Validating', layout=Layout(flex='2'), m…"
      ]
     },
     "metadata": {},
     "output_type": "display_data"
    },
    {
     "name": "stderr",
     "output_type": "stream",
     "text": [
      "\n",
      "Epoch 00087: val_checkpoint_on  was not in top 1\n"
     ]
    },
    {
     "data": {
      "application/vnd.jupyter.widget-view+json": {
       "model_id": "",
       "version_major": 2,
       "version_minor": 0
      },
      "text/plain": [
       "HBox(children=(FloatProgress(value=1.0, bar_style='info', description='Validating', layout=Layout(flex='2'), m…"
      ]
     },
     "metadata": {},
     "output_type": "display_data"
    },
    {
     "name": "stderr",
     "output_type": "stream",
     "text": [
      "\n",
      "Epoch 00088: val_checkpoint_on reached 2.60805 (best 2.60805), saving model to ../saved_model/flickr30k_net_epoch=88.ckpt as top 1\n"
     ]
    },
    {
     "data": {
      "application/vnd.jupyter.widget-view+json": {
       "model_id": "",
       "version_major": 2,
       "version_minor": 0
      },
      "text/plain": [
       "HBox(children=(FloatProgress(value=1.0, bar_style='info', description='Validating', layout=Layout(flex='2'), m…"
      ]
     },
     "metadata": {},
     "output_type": "display_data"
    },
    {
     "name": "stderr",
     "output_type": "stream",
     "text": [
      "\n",
      "Epoch 00089: val_checkpoint_on reached 2.60741 (best 2.60741), saving model to ../saved_model/flickr30k_net_epoch=89.ckpt as top 1\n"
     ]
    },
    {
     "data": {
      "application/vnd.jupyter.widget-view+json": {
       "model_id": "",
       "version_major": 2,
       "version_minor": 0
      },
      "text/plain": [
       "HBox(children=(FloatProgress(value=1.0, bar_style='info', description='Validating', layout=Layout(flex='2'), m…"
      ]
     },
     "metadata": {},
     "output_type": "display_data"
    },
    {
     "name": "stderr",
     "output_type": "stream",
     "text": [
      "\n",
      "Epoch 00090: val_checkpoint_on reached 2.60708 (best 2.60708), saving model to ../saved_model/flickr30k_net_epoch=90.ckpt as top 1\n"
     ]
    },
    {
     "data": {
      "application/vnd.jupyter.widget-view+json": {
       "model_id": "",
       "version_major": 2,
       "version_minor": 0
      },
      "text/plain": [
       "HBox(children=(FloatProgress(value=1.0, bar_style='info', description='Validating', layout=Layout(flex='2'), m…"
      ]
     },
     "metadata": {},
     "output_type": "display_data"
    },
    {
     "name": "stderr",
     "output_type": "stream",
     "text": [
      "\n",
      "Epoch 00091: val_checkpoint_on reached 2.60200 (best 2.60200), saving model to ../saved_model/flickr30k_net_epoch=91.ckpt as top 1\n"
     ]
    },
    {
     "data": {
      "application/vnd.jupyter.widget-view+json": {
       "model_id": "",
       "version_major": 2,
       "version_minor": 0
      },
      "text/plain": [
       "HBox(children=(FloatProgress(value=1.0, bar_style='info', description='Validating', layout=Layout(flex='2'), m…"
      ]
     },
     "metadata": {},
     "output_type": "display_data"
    },
    {
     "name": "stderr",
     "output_type": "stream",
     "text": [
      "\n",
      "Epoch 00092: val_checkpoint_on  was not in top 1\n"
     ]
    },
    {
     "data": {
      "application/vnd.jupyter.widget-view+json": {
       "model_id": "",
       "version_major": 2,
       "version_minor": 0
      },
      "text/plain": [
       "HBox(children=(FloatProgress(value=1.0, bar_style='info', description='Validating', layout=Layout(flex='2'), m…"
      ]
     },
     "metadata": {},
     "output_type": "display_data"
    },
    {
     "name": "stderr",
     "output_type": "stream",
     "text": [
      "\n",
      "Epoch 00093: val_checkpoint_on reached 2.60037 (best 2.60037), saving model to ../saved_model/flickr30k_net_epoch=93.ckpt as top 1\n"
     ]
    },
    {
     "data": {
      "application/vnd.jupyter.widget-view+json": {
       "model_id": "",
       "version_major": 2,
       "version_minor": 0
      },
      "text/plain": [
       "HBox(children=(FloatProgress(value=1.0, bar_style='info', description='Validating', layout=Layout(flex='2'), m…"
      ]
     },
     "metadata": {},
     "output_type": "display_data"
    },
    {
     "name": "stderr",
     "output_type": "stream",
     "text": [
      "\n",
      "Epoch 00094: val_checkpoint_on  was not in top 1\n"
     ]
    },
    {
     "data": {
      "application/vnd.jupyter.widget-view+json": {
       "model_id": "",
       "version_major": 2,
       "version_minor": 0
      },
      "text/plain": [
       "HBox(children=(FloatProgress(value=1.0, bar_style='info', description='Validating', layout=Layout(flex='2'), m…"
      ]
     },
     "metadata": {},
     "output_type": "display_data"
    },
    {
     "name": "stderr",
     "output_type": "stream",
     "text": [
      "\n",
      "Epoch 00095: val_checkpoint_on reached 2.59996 (best 2.59996), saving model to ../saved_model/flickr30k_net_epoch=95.ckpt as top 1\n"
     ]
    },
    {
     "data": {
      "application/vnd.jupyter.widget-view+json": {
       "model_id": "",
       "version_major": 2,
       "version_minor": 0
      },
      "text/plain": [
       "HBox(children=(FloatProgress(value=1.0, bar_style='info', description='Validating', layout=Layout(flex='2'), m…"
      ]
     },
     "metadata": {},
     "output_type": "display_data"
    },
    {
     "name": "stderr",
     "output_type": "stream",
     "text": [
      "\n",
      "Epoch 00096: val_checkpoint_on reached 2.59513 (best 2.59513), saving model to ../saved_model/flickr30k_net_epoch=96.ckpt as top 1\n"
     ]
    },
    {
     "data": {
      "application/vnd.jupyter.widget-view+json": {
       "model_id": "",
       "version_major": 2,
       "version_minor": 0
      },
      "text/plain": [
       "HBox(children=(FloatProgress(value=1.0, bar_style='info', description='Validating', layout=Layout(flex='2'), m…"
      ]
     },
     "metadata": {},
     "output_type": "display_data"
    },
    {
     "name": "stderr",
     "output_type": "stream",
     "text": [
      "\n",
      "Epoch 00097: val_checkpoint_on  was not in top 1\n"
     ]
    },
    {
     "data": {
      "application/vnd.jupyter.widget-view+json": {
       "model_id": "",
       "version_major": 2,
       "version_minor": 0
      },
      "text/plain": [
       "HBox(children=(FloatProgress(value=1.0, bar_style='info', description='Validating', layout=Layout(flex='2'), m…"
      ]
     },
     "metadata": {},
     "output_type": "display_data"
    },
    {
     "name": "stderr",
     "output_type": "stream",
     "text": [
      "\n",
      "Epoch 00098: val_checkpoint_on reached 2.59331 (best 2.59331), saving model to ../saved_model/flickr30k_net_epoch=98.ckpt as top 1\n"
     ]
    },
    {
     "data": {
      "application/vnd.jupyter.widget-view+json": {
       "model_id": "",
       "version_major": 2,
       "version_minor": 0
      },
      "text/plain": [
       "HBox(children=(FloatProgress(value=1.0, bar_style='info', description='Validating', layout=Layout(flex='2'), m…"
      ]
     },
     "metadata": {},
     "output_type": "display_data"
    },
    {
     "name": "stderr",
     "output_type": "stream",
     "text": [
      "\n",
      "Epoch 00099: val_checkpoint_on reached 2.59164 (best 2.59164), saving model to ../saved_model/flickr30k_net_epoch=99.ckpt as top 1\n",
      "Saving latest checkpoint..\n"
     ]
    },
    {
     "name": "stdout",
     "output_type": "stream",
     "text": [
      "\n"
     ]
    },
    {
     "data": {
      "text/plain": [
       "1"
      ]
     },
     "execution_count": 79,
     "metadata": {},
     "output_type": "execute_result"
    }
   ],
   "source": [
    "trainer = pl.Trainer(max_epochs=MAX_EPOCHS, gpus=NUM_GPU, logger=tensorboard_logger, checkpoint_callback=checkpoint_callback)\n",
    "trainer.fit(task, train_loader, valid_loader)"
   ]
  },
  {
   "cell_type": "code",
   "execution_count": 49,
   "metadata": {},
   "outputs": [
    {
     "data": {
      "text/plain": [
       "<All keys matched successfully>"
      ]
     },
     "execution_count": 49,
     "metadata": {},
     "output_type": "execute_result"
    }
   ],
   "source": [
    "saved_checkpoint_path = '../saved_model/flickr8k_net_epoch=99.ckpt'\n",
    "checkpoint = torch.load(saved_checkpoint_path, map_location=lambda storage, loc: storage)\n",
    "task.load_state_dict(checkpoint['state_dict'])\n",
    "# model.load_state_dict(task.model.state_dict())\n",
    "# task.load_from_checkpoint(saved_checkpoint_path, optimizers=optimizer, criterion=criterion, vocab_size=VOCAB_SIZE)"
   ]
  },
  {
   "cell_type": "code",
   "execution_count": null,
   "metadata": {},
   "outputs": [],
   "source": []
  },
  {
   "cell_type": "code",
   "execution_count": 80,
   "metadata": {},
   "outputs": [],
   "source": [
    "class ImageCaptionTest(object):\n",
    "    def __init__(self, model, vocab, max_len=20):\n",
    "        self.model = model\n",
    "        self.vocab = vocab\n",
    "        self.max_len = max_len\n",
    "        \n",
    "        self.model.eval()\n",
    "        self.encoder = model.encoder\n",
    "        self.decoder = model.decoder\n",
    "        \n",
    "    def process_sentence_list(self, sentences):\n",
    "        sentence_list = []\n",
    "        for sentence in sentences:\n",
    "            sentence_list.append(self.clean_sentence(sentence))\n",
    "        return sentence_list\n",
    "    \n",
    "    def clean_sentence(self, sentence_index):\n",
    "        sentence = \"\"\n",
    "        for i in sentence_index:\n",
    "            word = self.vocab.itos[i]\n",
    "            if (word == self.vocab.start_word):\n",
    "                continue\n",
    "            elif (word == self.vocab.end_word):\n",
    "                break\n",
    "            else:\n",
    "                sentence = sentence + \" \" + word\n",
    "        return sentence\n",
    "    \n",
    "    def sample(self, images, states=None):\n",
    "        with torch.no_grad():\n",
    "            inputs = self.encoder(images).unsqueeze(dim=1)\n",
    "            sampled_ids = []\n",
    "            for i in range(self.max_len):\n",
    "                hiddens, states = self.decoder.lstm(inputs, states)          # hiddens: (batch_size, 1, hidden_size)\n",
    "                outputs = self.decoder.linear(hiddens.squeeze(1))            # outputs:  (batch_size, vocab_size)\n",
    "                _, predicted = outputs.max(1)                        # predicted: (batch_size)\n",
    "                sampled_ids.append(predicted)\n",
    "                inputs = self.decoder.embed(predicted)                       # inputs: (batch_size, embed_size)\n",
    "                inputs = inputs.unsqueeze(1)                         # inputs: (batch_size, 1, embed_size)\n",
    "            sampled_ids = torch.stack(sampled_ids, 1)                # sampled_ids: (batch_size, max_seq_length)\n",
    "            return sampled_ids.tolist()\n",
    "    \n",
    "    def generate_caption(self, images):\n",
    "        sentences_indexs = self.sample(images)\n",
    "        sentences = self.process_sentence_list(sentences_indexs)\n",
    "        return sentences\n",
    "    \n",
    "def clean_sentence(sentence_index, vocab):\n",
    "    sentence = \"\"\n",
    "    for i in sentence_index:\n",
    "        word = vocab.itos[i]\n",
    "        if (word == vocab.start_word):\n",
    "            continue\n",
    "        elif (word == vocab.end_word):\n",
    "            break\n",
    "        else:\n",
    "            sentence = sentence + \" \" + word\n",
    "    return sentence"
   ]
  },
  {
   "cell_type": "code",
   "execution_count": 86,
   "metadata": {},
   "outputs": [
    {
     "name": "stderr",
     "output_type": "stream",
     "text": [
      "Clipping input data to the valid range for imshow with RGB data ([0..1] for floats or [0..255] for integers).\n"
     ]
    },
    {
     "name": "stdout",
     "output_type": "stream",
     "text": [
      "predicted    :  a man in a blue shirt is sitting on a chair in a room with a red and white\n",
      "ground truth :  a man in a green cap is repairing a broken chair .\n",
      "tensor([   0,    6,   10,    4,    6,   73,  178,   16,  975,    6, 2220,  261,\n",
      "           5,    1])\n"
     ]
    },
    {
     "data": {
      "image/png": "[encoded data removed]",
      "text/plain": [
       "<Figure size 432x288 with 1 Axes>"
      ]
     },
     "metadata": {
      "needs_background": "light"
     },
     "output_type": "display_data"
    }
   ],
   "source": [
    "img, txt = validset[40]\n",
    "img = img.unsqueeze(0)\n",
    "\n",
    "image_caption = ImageCaptionTest(model, validset.vocab)\n",
    "result = image_caption.generate_caption(img)\n",
    "\n",
    "\n",
    "print(f'predicted    : {result[0]}')\n",
    "print(f'ground truth : {clean_sentence(txt.tolist(), validset.vocab)}')\n",
    "plt.imshow(img.squeeze().permute(1,2,0), cmap='gray')\n",
    "print(txt)"
   ]
  },
  {
   "cell_type": "code",
   "execution_count": null,
   "metadata": {},
   "outputs": [],
   "source": []
  },
  {
   "cell_type": "code",
   "execution_count": null,
   "metadata": {},
   "outputs": [],
   "source": []
  }
 ],
 "metadata": {
  "kernelspec": {
   "display_name": "Python 3",
   "language": "python",
   "name": "python3"
  },
  "language_info": {
   "codemirror_mode": {
    "name": "ipython",
    "version": 3
   },
   "file_extension": ".py",
   "mimetype": "text/x-python",
   "name": "python",
   "nbconvert_exporter": "python",
   "pygments_lexer": "ipython3",
   "version": "3.6.8"
  }
 },
 "nbformat": 4,
 "nbformat_minor": 4
}
